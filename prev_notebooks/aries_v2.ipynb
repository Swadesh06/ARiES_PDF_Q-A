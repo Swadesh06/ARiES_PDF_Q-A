{
  "nbformat": 4,
  "nbformat_minor": 0,
  "metadata": {
    "colab": {
      "provenance": []
    },
    "kernelspec": {
      "name": "python3",
      "display_name": "Python 3"
    },
    "language_info": {
      "name": "python"
    }
  },
  "cells": [
    {
      "cell_type": "markdown",
      "metadata": {
        "id": "UIBhaZGY8epd"
      },
      "source": [
        "#### Incorporating Final RAG components"
      ]
    },
    {
      "cell_type": "code",
      "execution_count": null,
      "metadata": {
        "id": "i3kEG2whENRf"
      },
      "outputs": [],
      "source": [
        "from langchain.prompts.chat import (\n",
        "    ChatPromptTemplate,\n",
        "    SystemMessagePromptTemplate,\n",
        "    AIMessagePromptTemplate,\n",
        "    HumanMessagePromptTemplate,\n",
        ")\n",
        "from langchain.schema import (\n",
        "    AIMessage,\n",
        "    HumanMessage,\n",
        "    SystemMessage\n",
        ")"
      ]
    },
    {
      "cell_type": "code",
      "execution_count": null,
      "metadata": {
        "id": "im4mEUpbJ82M"
      },
      "outputs": [],
      "source": [
        "save_directory_faiss = \"/content/drive/MyDrive/FAISS\""
      ]
    },
    {
      "cell_type": "code",
      "execution_count": null,
      "metadata": {
        "id": "U-UWAQ6fEvWk"
      },
      "outputs": [],
      "source": [
        "# Using FAISS vector database - use for faster search\n",
        "vector_db_faiss = FAISS.from_documents(documents = split_documents, embedding = embeddings)\n",
        "vector_db_faiss.save_local(save_directory_faiss)"
      ]
    },
    {
      "cell_type": "code",
      "execution_count": null,
      "metadata": {
        "id": "aJTpsOpZFCTA"
      },
      "outputs": [],
      "source": [
        "vector_db_faiss2 = FAISS.load_local(save_directory_faiss, embeddings, allow_dangerous_deserialization=True)"
      ]
    },
    {
      "cell_type": "code",
      "execution_count": null,
      "metadata": {
        "id": "p38KEDTcQrpW"
      },
      "outputs": [],
      "source": []
    },
    {
      "cell_type": "code",
      "execution_count": null,
      "metadata": {
        "id": "_vF-J3bqT26w"
      },
      "outputs": [],
      "source": [
        "retriever_faiss = vector_db_faiss.as_retriever(search_kwargs={\"k\": 10})\n",
        "retriever_faiss_mmr = vector_db_faiss.as_retriever(search_type = \"mmr\", fetch_k =50, search_kwargs={\"k\": 5, \"lambda_mult\": 0.5})\n",
        "retriever_faiss_sst = vector_db_faiss.as_retriever(search_type = \"similarity_score_threshold\", search_kwargs={\"k\": 5, \"score_threshold\": 0.8})"
      ]
    },
    {
      "cell_type": "code",
      "execution_count": null,
      "metadata": {
        "id": "2lecsocpF7qh"
      },
      "outputs": [],
      "source": [
        "# persist_directory = \"/content/drive/MyDrive/data/ChromaDB\"\n",
        "# # Using ChromaDB vector data base - Use if data base has a  very large size\n",
        "# vector_db_chroma = Chroma.from_documents(documents=split_documents, embedding=embeddings, persist_directory=persist_directory,)\n",
        "# vector_db_chromas = Chroma(persist_directory=persist_directory, embedding_function=embeddings)\n",
        "# retriever_chroma = vector_db_chroma.as_retriever(search_kwargs={\"k\": 5})\n",
        "# retriever_chroma_mmr = vector_db_chroma.as_retriever(search_type = \"mmr\", search_kwargs={\"k\": 5, \"lambda_mult\": 0.5})\n",
        "# retriever_chroma_sst = vector_db_chroma.as_retriever(search_type = \"similarity_score_threshold\", search_kwargs={\"k\": 5, \"score_threshold\": 0.8})"
      ]
    },
    {
      "cell_type": "code",
      "execution_count": null,
      "metadata": {
        "colab": {
          "base_uri": "https://localhost:8080/"
        },
        "id": "RGmKHje7AxcH",
        "outputId": "92bdbb26-bb27-4d4d-c560-9ac93d0a4b86"
      },
      "outputs": [
        {
          "name": "stderr",
          "output_type": "stream",
          "text": [
            "/usr/local/lib/python3.10/dist-packages/langchain_core/_api/deprecation.py:139: LangChainDeprecationWarning: The class `ChatOpenAI` was deprecated in LangChain 0.0.10 and will be removed in 0.3.0. An updated version of the class exists in the langchain-openai package and should be used instead. To use it run `pip install -U langchain-openai` and import as `from langchain_openai import ChatOpenAI`.\n",
            "  warn_deprecated(\n"
          ]
        }
      ],
      "source": [
        "# Retrival using MultiQuery\n",
        "llm_retriever = ChatOpenAI(temperature=0)\n",
        "\n",
        "retriever_from_llm = MultiQueryRetriever.from_llm(\n",
        "    retriever=retriever_faiss_mmr, llm=llm_retriever\n",
        ")"
      ]
    },
    {
      "cell_type": "code",
      "execution_count": null,
      "metadata": {
        "id": "wfwJI8PuRgHx"
      },
      "outputs": [],
      "source": [
        "results = vector_db_faiss2.similarity_search_with_score(\"Shloka\", k = 50)"
      ]
    },
    {
      "cell_type": "code",
      "execution_count": null,
      "metadata": {
        "id": "NmuyOLy-w2zn"
      },
      "outputs": [],
      "source": [
        "documents = []\n",
        "scores = []\n",
        "for doc, score in results:\n",
        "    documents.append(doc)\n",
        "    scores.append(score)"
      ]
    },
    {
      "cell_type": "code",
      "execution_count": null,
      "metadata": {
        "colab": {
          "base_uri": "https://localhost:8080/",
          "height": 35
        },
        "id": "0PxEh2VKx4a2",
        "outputId": "8123485a-7415-4604-c0f0-fd28c000d90d"
      },
      "outputs": [
        {
          "data": {
            "application/vnd.google.colaboratory.intrinsic+json": {
              "type": "string"
            },
            "text/plain": [
              "'/content/drive/MyDrive/ncert_ocr/IKS/Lilavati of Bhaskaracharya 1908 - Khemraj_112_text.txt'"
            ]
          },
          "execution_count": 28,
          "metadata": {},
          "output_type": "execute_result"
        }
      ],
      "source": [
        "documents[0].metadata[\"source\"]"
      ]
    },
    {
      "cell_type": "code",
      "execution_count": null,
      "metadata": {
        "id": "U2ZqJSrsCX1f"
      },
      "outputs": [],
      "source": [
        "logging.basicConfig()\n",
        "logging.getLogger(\"langchain.retrievers.multi_query\").setLevel(logging.INFO)"
      ]
    },
    {
      "cell_type": "code",
      "execution_count": null,
      "metadata": {
        "id": "2mA1RtTrFTbI"
      },
      "outputs": [],
      "source": [
        "llm = ChatOpenAI(openai_api_key=openai_api_key, temperature=0.9, model='gpt-4o')"
      ]
    },
    {
      "cell_type": "code",
      "execution_count": null,
      "metadata": {
        "id": "gTM9SygqFTbI"
      },
      "outputs": [],
      "source": [
        "# Defining various prompt templates for different tasks\n",
        "\n",
        "\n",
        "#System Roles\n",
        "\n",
        "prompt_compilation = PromptTemplate(\n",
        "    input_variables=[\"data\"],\n",
        "    template=''' You will be given some data below, and a topic by the user. You have to properly and comprehensively compile the data to be relevant to the topic and explain it's concepts clearly from only the given data. Do not make up information.\n",
        "     {data}  '''\n",
        "\n",
        ")\n",
        "\n",
        "prompt_story_generation = PromptTemplate(\n",
        "    input_variables=[\"data\"],\n",
        "    template=''' You will be given some data below, and a topic by the user. You have to properly and comprehensively make a fun kids' story to explain the concepts relevant to the user's query in the datain simple terms so that kids can understand . Do not make up information.\n",
        "     {data}  '''\n",
        "\n",
        ")\n",
        "\n",
        "prompt_poem_generation = PromptTemplate(\n",
        "    input_variables=[\"data\"],\n",
        "    template=''' You will be given some data below, and a topic by the user. You have to properly and comprehensively make a fun kids' poem to explain the concepts relevant to the user's query in the data, in simple terms so that kids can understand. Do not make up information.\n",
        "     {data}  '''\n",
        "\n",
        ")\n",
        "\n",
        "prompt_image_generation = PromptTemplate(\n",
        "    input_variables=[\"data\"],\n",
        "    template=''' You will be given some story or poem below, and a topic by the user. Generate a detailed prompt, under 500 characters of length, to generate an image based on story/poem and the topic provided by the user.\n",
        "     {data}  '''\n",
        "\n",
        ")\n",
        "\n",
        "\n",
        "#Human Roles\n",
        "\n",
        "human_template_compilation = \"{topic}\"\n",
        "human_template_story_generation = \"{topic}\"\n",
        "human_template_poem_generation = \"{topic}\"\n",
        "human_template_image_generation = \"{topic}\""
      ]
    },
    {
      "cell_type": "code",
      "execution_count": null,
      "metadata": {
        "id": "o4uN8stqFTbJ"
      },
      "outputs": [],
      "source": [
        "system_message_prompt_1 = SystemMessagePromptTemplate(prompt=prompt_compilation)\n",
        "human_message_prompt_1 = HumanMessagePromptTemplate.from_template(human_template_compilation)\n",
        "chat_prompt_compilation = ChatPromptTemplate.from_messages([system_message_prompt_1, human_message_prompt_1])"
      ]
    },
    {
      "cell_type": "code",
      "execution_count": null,
      "metadata": {
        "id": "jEcTMAB978Fw"
      },
      "outputs": [],
      "source": [
        "system_message_prompt_2 = SystemMessagePromptTemplate(prompt=prompt_story_generation)\n",
        "human_message_prompt_2 = HumanMessagePromptTemplate.from_template(human_template_story_generation)\n",
        "chat_prompt_story_generation = ChatPromptTemplate.from_messages([system_message_prompt_2, human_message_prompt_2])"
      ]
    },
    {
      "cell_type": "code",
      "execution_count": null,
      "metadata": {
        "id": "ukZibw5g9QsB"
      },
      "outputs": [],
      "source": [
        "system_message_prompt_3 = SystemMessagePromptTemplate(prompt=prompt_poem_generation)\n",
        "human_message_prompt_3 = HumanMessagePromptTemplate.from_template(human_template_poem_generation)\n",
        "chat_prompt_poem_generation = ChatPromptTemplate.from_messages([system_message_prompt_3, human_message_prompt_3])"
      ]
    },
    {
      "cell_type": "code",
      "execution_count": null,
      "metadata": {
        "id": "tjfGk3Cy9RJK"
      },
      "outputs": [],
      "source": [
        "system_message_prompt_4 = SystemMessagePromptTemplate(prompt=prompt_image_generation)\n",
        "human_message_prompt_4 = HumanMessagePromptTemplate.from_template(human_template_image_generation)\n",
        "chat_prompt_image_generation = ChatPromptTemplate.from_messages([system_message_prompt_4, human_message_prompt_4])"
      ]
    },
    {
      "cell_type": "code",
      "execution_count": null,
      "metadata": {
        "id": "W3ytGpb4CrQz"
      },
      "outputs": [],
      "source": [
        "llm_compressor = ChatOpenAI(temperature=0, model='gpt-4')\n",
        "\n",
        "compressor = LLMChainExtractor.from_llm(llm_compressor)\n",
        "# compression_retriever = ContextualCompressionRetriever(base_compressor=compressor,\n",
        "#                                                        base_retriever=vectordb2.as_retriever(search_type=\"mmr\",search_kwargs={\"k\":8, \"lambda_mult\": 0.8}))"
      ]
    },
    {
      "cell_type": "code",
      "execution_count": null,
      "metadata": {
        "id": "g8o6MSOrjj6M"
      },
      "outputs": [],
      "source": [
        "i = 1\n",
        "processes = [\"compilation\", \"story_generation\", \"poem_generation\", \"image_generation\"]"
      ]
    },
    {
      "cell_type": "code",
      "execution_count": null,
      "metadata": {
        "id": "_r1RDxJpGSaK"
      },
      "outputs": [],
      "source": [
        "\n",
        "input_query = input(\"Your query: \")\n",
        "for process in processes:\n",
        "  if process == \"compilation\":\n",
        "    print(\"Fetching relevant documents.... \\n\\n\")\n",
        "    unique_docs_multi_query = retriever_from_llm.get_relevant_documents(query=input_query)\n",
        "    print(\"Displaying relevant document sources... \\n\\n\")\n",
        "    for i in range(len(unique_docs_multi_query)):\n",
        "      print(unique_docs_multi_query[i].metadata)\n",
        "    print(\"Compressing chunks for information density... \\n\\n\")\n",
        "    input_data = compressor.compress_documents(unique_docs_multi_query, query=input_query)\n",
        "    if (len(input_data)<2):\n",
        "      input_data = unique_docs_multi_query\n",
        "    print(\"\\n\")\n",
        "    print(input_data)\n",
        "    print(\"\\n\")\n",
        "    chat_prompt_with_values = chat_prompt_compilation.format_prompt(topic=input_query, data=input_data)\n",
        "    messages_compilation = chat_prompt_with_values.to_messages()\n",
        "    print(\"\\n\")\n",
        "    print(\"Compiling your data... \\n\\n\")\n",
        "    response = llm(messages_compilation)\n",
        "    print(response.content)\n",
        "    messages_compilation.append(AIMessage(content=response.content))\n",
        "    print(\"\\n\\n\\n\\n\")\n",
        "\n",
        "  elif process == \"story_generation\":\n",
        "      print(\"generating story... \\n\")\n",
        "\n",
        "  elif process == \"poem_generation\":\n",
        "      print(\"hello\")\n",
        "\n",
        "  elif process == \"image_generation\":\n",
        "      print(\"hello\")\n",
        "\n",
        "\n",
        "# else:\n",
        "#   # appending logic\n",
        "#   for process in processes:\n",
        "#     if process == \"compilation\":\n",
        "#         print(\"Fetching relevant documents.... \\n\\n\")\n",
        "#         unique_docs_multi_query = retriever_from_llm.get_relevant_documents(query=input_query)\n",
        "#         print(\"Displaying relevant document sources... \\n\\n\")\n",
        "#         for i in range(len(unique_docs_multi_query)):\n",
        "#           print(unique_docs_multi_query[i].metadata)\n",
        "#         print(\"Compressing chunks for information density... \\n\\n\")\n",
        "#         input_data = compressor.compress_documents(unique_docs_multi_query, query=input_query)\n",
        "#         if (len(input_data)<2):\n",
        "#           input_data = unique_docs_multi_query\n",
        "#         print(input_data)\n",
        "#         system_prompt_with_values = system_message_prompt.format(data = input_data)\n",
        "#         human_prompt_with_values = human_message_prompt.format(topic = input_query)\n",
        "#         messages_compilation.append(SystemMessage(content = system_prompt_with_values.content))\n",
        "#         messages_compilation.append(HumanMessage(content = human_prompt_with_values.content))\n",
        "#         print(\"Compiling your response... \\n\\n\")\n",
        "#         response = llm(messages_compilation)\n",
        "#         print(response.content)\n",
        "#         messages_compilation.append(AIMessage(content=response.content))\n",
        "#         print(\"\\n\\n\\n\\n\")\n",
        "\n",
        "#     elif process == \"story_generation\":\n",
        "#         print(\"hello\")\n",
        "#     elif process == \"poem_generation\":\n",
        "#         print(\"hello\")\n",
        "#     elif process == \"image_generation\":\n",
        "#         print(\"hello\")"
      ]
    },
    {
      "cell_type": "code",
      "execution_count": null,
      "metadata": {
        "colab": {
          "base_uri": "https://localhost:8080/"
        },
        "id": "5Aw3JVEAeupf",
        "outputId": "6efb2be0-9c27-4718-8003-14e2d20c3b90"
      },
      "outputs": [
        {
          "name": "stdout",
          "output_type": "stream",
          "text": [
            "Python 3.10.12\n"
          ]
        }
      ],
      "source": [
        "!python --version"
      ]
    },
    {
      "cell_type": "code",
      "execution_count": null,
      "metadata": {
        "colab": {
          "base_uri": "https://localhost:8080/"
        },
        "id": "p3cNHQTcjo5Q",
        "outputId": "ef78b9b3-357f-40d9-c952-6ed446512ddf"
      },
      "outputs": [
        {
          "data": {
            "text/plain": [
              "3"
            ]
          },
          "execution_count": 101,
          "metadata": {},
          "output_type": "execute_result"
        }
      ],
      "source": [
        "len(messages_compilation)"
      ]
    },
    {
      "cell_type": "code",
      "execution_count": null,
      "metadata": {
        "colab": {
          "base_uri": "https://localhost:8080/"
        },
        "id": "2xbRVCNVpjLw",
        "outputId": "36c29bf2-0914-4b84-84f4-ce561a0c7918"
      },
      "outputs": [
        {
          "data": {
            "text/plain": [
              "[SystemMessage(content=\" You will be given some data below, and a topic by the user. You have to properly and comprehensively compile the data to be relevant to the topic and explain it's concepts clearly from only the given data. Do not make up information.\\n     [Document(page_content='लिखते हैं   एक श्लोकमें.\\\\n\\\\nसाध्येनोनोऽनल्पवर्णों विधेयः साध्यो वर्णः खल्पवर्णोंनितश्व॥\\\\n\\\\nइप्टक्सण्णे  शेषके स्वर्णमाने  स्यातां स्वल्पानल्पयोर्वर्णयोस्ते२९॥\\\\n\\\\n: अन्वयः-अनल्पवर्णः साध्येन ऊनः विधेयः - । साध्यः वर्णः - च. ख़ल्पवर्णाँवितः\\\\n\\\\nविधियः । ततः स्वल्पानल्पयोः वर्णयोः शेषके इष्ट्र्सुण्णे स्वर्णमाने स्यातामू ॥ २९. स\\\\n\\\\nCC-0. Late Pt. Manmohan Shastri Collection Jammu. Digitized by eGangotri', metadata={'source': '/content/drive/MyDrive/ncert_ocr/IKS/Lilavati of Bhaskaracharya 1908 - Khemraj_112_text.txt'}), Document(page_content='जानते हैं तहां गच्छ जाननेकी रीति एक श्लोकमें लिखते हैं–\\\\n\\\\nथ्रेटी फ़्लाइटरहोचन ना च्चयाई व झन्तर वर्ग युक्तात् ॥\\\\n\\\\nमूलं मुखोनं चयलण्ड्युक्तं चयोद्धतं गच्छमुदाहरन्ति ॥ ३७॥\\\\n\\\\nअन्वयः-आचार्याः   उत्तरहोचनन्नात्   चयाईवक्रान्तरवर्गयुक्तात् श्रेटीफलात्\\\\n\\\\nम्बलम् मुखोने चयखण्डयुक्त चयोद्रत गच्छम् उदाहरन्ति ॥ ३७॥\\\\n\\\\nअर्थ:--सर्वंधनको दो २ से गुणा किये हुए चयसे गुणा करे,   फिर  चयका आधा\\\\n\\\\nऔर आदिधन इनका अन्तर करनेसे जो मिले उसको द्विग्रणित चयसे गुणा   किये', metadata={'source': '/content/drive/MyDrive/ncert_ocr/IKS/Lilavati of Bhaskaracharya 1908 - Khemraj_126_text.txt'})]  \"),\n",
              " HumanMessage(content='Shloka'),\n",
              " AIMessage(content=\"Sure, I can help you understand the provided shlokas more comprehensively.\\n\\n### First Shloka from the First Document:\\n\\n**Text of the Shloka:**  \\n```\\nसाध्येनोनोऽनल्पवर्णों विधेयः साध्यो वर्णः खल्पवर्णोंनितश्व॥  \\nइप्टक्सण्णे  शेषके स्वर्णमाने  स्यातां स्वल्पानल्पयोर्वर्णयोस्ते२९॥\\n```\\n\\n**Anvaya (Prose Order):**  \\n```\\nअनल्पवर्णः साध्येन ऊनः विधेयः । साध्यः वर्णः - च. ख़ल्पवर्णाँवितः\\nविधियः । ततः स्वल्पानल्पयोः वर्णयोः शेषके इष्ट्र्सुण्णे स्वर्णमाने स्यातामू ॥ २९.\\n```\\n\\n**Explanation:**  \\n- This verse seems to deal with concepts related to linguistics or phonetics judging by the frequent mention of 'वर्ण' (varna - which can mean letter or sound).\\n- 'अनल्पवर्णः साध्येन ऊनः विधेयः' might suggest a structure or rule related to phonetics (possibly transforming or analyzing sounds).\\n- The passage appears to be technical, likely dealing with a specific aspect of Sanskrit grammar or phonetics as interpreted by the given text.\\n\\n### Second Shloka from the Second Document:\\n\\n**Text of the Shloka:**  \\n```\\nथ्रेटी फ़्लाइटरहोचन ना च्चयाई व झन्तर वर्ग युक्तात् ॥  \\nमूलं मुखोनं चयलण्ड्युक्तं चयोद्धतं गच्छमुदाहरन्ति ॥ ३७॥\\n```\\n\\n**Anvaya (Prose Order):**  \\n```\\nआचार्याः   उत्तरहोचनन्नात्   चयाईवक्रान्तरवर्गयुक्तात् श्रेटीफलात्  \\nम्बलम् मुखोने चयखण्डयुक्त चयोद्रत गच्छम् उदाहरन्ति ॥ ३७॥\\n```\\n\\n**Explanation:**  \\n- This shloka appears to describe a mathematical or calculation technique.\\n- The verse involves certain operations: multiplying, adding, and then performing some form of extraction or square root operation.\\n- The terms like 'चयाई', 'वर्ग' (square), 'मूल' (root), 'मुखोन' (possibly some form of principle term), and 'गच्छ' suggest steps in a computational process, likely related to ancient mathematical practices.\\n\\n### General Concepts:\\n\\n- **Sanskrit Shlokas**: These often carry deep, technical knowledge, compressed into a few lines. They are used across various fields like literature, mathematics, phonetics, and grammar.\\n- **Anvaya (Prose Order)**: Helps to rearrange the words to make the sentence grammatically and syntactically clearer.\\n- **Phonetics and Linguistics**: In ancient texts, the sound and pronunciation of words (varnas) were given a lot of importance, and specific rules were laid down to maintain the integrity of language.\\n- **Mathematical Operations**: Ancient Indian mathematics included comprehensive techniques for operations on numbers, often encoded in shlokas for easy memorization and transmission.\\n\\nThe provided shlokas are specific to their fields, dealing with phonetics and mathematical procedures, encoded in a concise, poetic form.\")]"
            ]
          },
          "execution_count": 102,
          "metadata": {},
          "output_type": "execute_result"
        }
      ],
      "source": [
        "messages_compilation"
      ]
    },
    {
      "cell_type": "code",
      "execution_count": null,
      "metadata": {
        "colab": {
          "base_uri": "https://localhost:8080/",
          "height": 161
        },
        "id": "CV-tK6rZhzLN",
        "outputId": "d01c0353-420e-4858-e3c7-95d554504b17"
      },
      "outputs": [
        {
          "data": {
            "application/vnd.google.colaboratory.intrinsic+json": {
              "type": "string"
            },
            "text/plain": [
              "\" You will be given some data below, and a topic by the user. You have to properly and comprehensively compile the data to be relevant to the topic and explain it's concepts clearly from only the given data. Do not make up information.\\n     [Document(page_content='लिखते हैं   एक श्लोकमें.\\\\n\\\\nसाध्येनोनोऽनल्पवर्णों विधेयः साध्यो वर्णः खल्पवर्णोंनितश्व॥\\\\n\\\\nइप्टक्सण्णे  शेषके स्वर्णमाने  स्यातां स्वल्पानल्पयोर्वर्णयोस्ते२९॥\\\\n\\\\n: अन्वयः-अनल्पवर्णः साध्येन ऊनः विधेयः - । साध्यः वर्णः - च. ख़ल्पवर्णाँवितः\\\\n\\\\nविधियः । ततः स्वल्पानल्पयोः वर्णयोः शेषके इष्ट्र्सुण्णे स्वर्णमाने स्यातामू ॥ २९. स\\\\n\\\\nCC-0. Late Pt. Manmohan Shastri Collection Jammu. Digitized by eGangotri', metadata={'source': '/content/drive/MyDrive/ncert_ocr/IKS/Lilavati of Bhaskaracharya 1908 - Khemraj_112_text.txt'}), Document(page_content='जानते हैं तहां गच्छ जाननेकी रीति एक श्लोकमें लिखते हैं–\\\\n\\\\nथ्रेटी फ़्लाइटरहोचन ना च्चयाई व झन्तर वर्ग युक्तात् ॥\\\\n\\\\nमूलं मुखोनं चयलण्ड्युक्तं चयोद्धतं गच्छमुदाहरन्ति ॥ ३७॥\\\\n\\\\nअन्वयः-आचार्याः   उत्तरहोचनन्नात्   चयाईवक्रान्तरवर्गयुक्तात् श्रेटीफलात्\\\\n\\\\nम्बलम् मुखोने चयखण्डयुक्त चयोद्रत गच्छम् उदाहरन्ति ॥ ३७॥\\\\n\\\\nअर्थ:--सर्वंधनको दो २ से गुणा किये हुए चयसे गुणा करे,   फिर  चयका आधा\\\\n\\\\nऔर आदिधन इनका अन्तर करनेसे जो मिले उसको द्विग्रणित चयसे गुणा   किये', metadata={'source': '/content/drive/MyDrive/ncert_ocr/IKS/Lilavati of Bhaskaracharya 1908 - Khemraj_126_text.txt'})]  \""
            ]
          },
          "execution_count": 103,
          "metadata": {},
          "output_type": "execute_result"
        }
      ],
      "source": [
        "messages_compilation[0].content"
      ]
    },
    {
      "cell_type": "code",
      "execution_count": null,
      "metadata": {
        "id": "iccP3EXgibm0"
      },
      "outputs": [],
      "source": [
        "list = []"
      ]
    },
    {
      "cell_type": "code",
      "execution_count": null,
      "metadata": {
        "id": "kY9ZGaXYiYb_"
      },
      "outputs": [],
      "source": [
        "for i in range(len(messages_compilation)):\n",
        "  list.append(messages_compilation[i].content)"
      ]
    },
    {
      "cell_type": "code",
      "execution_count": null,
      "metadata": {
        "colab": {
          "base_uri": "https://localhost:8080/"
        },
        "id": "JkQJ0FKviiAv",
        "outputId": "03d8f390-c722-4de7-d558-8e7723efa79b"
      },
      "outputs": [
        {
          "data": {
            "text/plain": [
              "[\" You will be given some data below, and a topic by the user. You have to properly and comprehensively compile the data to be relevant to the topic and explain it's concepts clearly from only the given data. Do not make up information.\\n     [Document(page_content='लिखते हैं   एक श्लोकमें.\\\\n\\\\nसाध्येनोनोऽनल्पवर्णों विधेयः साध्यो वर्णः खल्पवर्णोंनितश्व॥\\\\n\\\\nइप्टक्सण्णे  शेषके स्वर्णमाने  स्यातां स्वल्पानल्पयोर्वर्णयोस्ते२९॥\\\\n\\\\n: अन्वयः-अनल्पवर्णः साध्येन ऊनः विधेयः - । साध्यः वर्णः - च. ख़ल्पवर्णाँवितः\\\\n\\\\nविधियः । ततः स्वल्पानल्पयोः वर्णयोः शेषके इष्ट्र्सुण्णे स्वर्णमाने स्यातामू ॥ २९. स\\\\n\\\\nCC-0. Late Pt. Manmohan Shastri Collection Jammu. Digitized by eGangotri', metadata={'source': '/content/drive/MyDrive/ncert_ocr/IKS/Lilavati of Bhaskaracharya 1908 - Khemraj_112_text.txt'}), Document(page_content='जानते हैं तहां गच्छ जाननेकी रीति एक श्लोकमें लिखते हैं–\\\\n\\\\nथ्रेटी फ़्लाइटरहोचन ना च्चयाई व झन्तर वर्ग युक्तात् ॥\\\\n\\\\nमूलं मुखोनं चयलण्ड्युक्तं चयोद्धतं गच्छमुदाहरन्ति ॥ ३७॥\\\\n\\\\nअन्वयः-आचार्याः   उत्तरहोचनन्नात्   चयाईवक्रान्तरवर्गयुक्तात् श्रेटीफलात्\\\\n\\\\nम्बलम् मुखोने चयखण्डयुक्त चयोद्रत गच्छम् उदाहरन्ति ॥ ३७॥\\\\n\\\\nअर्थ:--सर्वंधनको दो २ से गुणा किये हुए चयसे गुणा करे,   फिर  चयका आधा\\\\n\\\\nऔर आदिधन इनका अन्तर करनेसे जो मिले उसको द्विग्रणित चयसे गुणा   किये', metadata={'source': '/content/drive/MyDrive/ncert_ocr/IKS/Lilavati of Bhaskaracharya 1908 - Khemraj_126_text.txt'})]  \",\n",
              " 'Shloka',\n",
              " \"Sure, I can help you understand the provided shlokas more comprehensively.\\n\\n### First Shloka from the First Document:\\n\\n**Text of the Shloka:**  \\n```\\nसाध्येनोनोऽनल्पवर्णों विधेयः साध्यो वर्णः खल्पवर्णोंनितश्व॥  \\nइप्टक्सण्णे  शेषके स्वर्णमाने  स्यातां स्वल्पानल्पयोर्वर्णयोस्ते२९॥\\n```\\n\\n**Anvaya (Prose Order):**  \\n```\\nअनल्पवर्णः साध्येन ऊनः विधेयः । साध्यः वर्णः - च. ख़ल्पवर्णाँवितः\\nविधियः । ततः स्वल्पानल्पयोः वर्णयोः शेषके इष्ट्र्सुण्णे स्वर्णमाने स्यातामू ॥ २९.\\n```\\n\\n**Explanation:**  \\n- This verse seems to deal with concepts related to linguistics or phonetics judging by the frequent mention of 'वर्ण' (varna - which can mean letter or sound).\\n- 'अनल्पवर्णः साध्येन ऊनः विधेयः' might suggest a structure or rule related to phonetics (possibly transforming or analyzing sounds).\\n- The passage appears to be technical, likely dealing with a specific aspect of Sanskrit grammar or phonetics as interpreted by the given text.\\n\\n### Second Shloka from the Second Document:\\n\\n**Text of the Shloka:**  \\n```\\nथ्रेटी फ़्लाइटरहोचन ना च्चयाई व झन्तर वर्ग युक्तात् ॥  \\nमूलं मुखोनं चयलण्ड्युक्तं चयोद्धतं गच्छमुदाहरन्ति ॥ ३७॥\\n```\\n\\n**Anvaya (Prose Order):**  \\n```\\nआचार्याः   उत्तरहोचनन्नात्   चयाईवक्रान्तरवर्गयुक्तात् श्रेटीफलात्  \\nम्बलम् मुखोने चयखण्डयुक्त चयोद्रत गच्छम् उदाहरन्ति ॥ ३७॥\\n```\\n\\n**Explanation:**  \\n- This shloka appears to describe a mathematical or calculation technique.\\n- The verse involves certain operations: multiplying, adding, and then performing some form of extraction or square root operation.\\n- The terms like 'चयाई', 'वर्ग' (square), 'मूल' (root), 'मुखोन' (possibly some form of principle term), and 'गच्छ' suggest steps in a computational process, likely related to ancient mathematical practices.\\n\\n### General Concepts:\\n\\n- **Sanskrit Shlokas**: These often carry deep, technical knowledge, compressed into a few lines. They are used across various fields like literature, mathematics, phonetics, and grammar.\\n- **Anvaya (Prose Order)**: Helps to rearrange the words to make the sentence grammatically and syntactically clearer.\\n- **Phonetics and Linguistics**: In ancient texts, the sound and pronunciation of words (varnas) were given a lot of importance, and specific rules were laid down to maintain the integrity of language.\\n- **Mathematical Operations**: Ancient Indian mathematics included comprehensive techniques for operations on numbers, often encoded in shlokas for easy memorization and transmission.\\n\\nThe provided shlokas are specific to their fields, dealing with phonetics and mathematical procedures, encoded in a concise, poetic form.\"]"
            ]
          },
          "execution_count": 106,
          "metadata": {},
          "output_type": "execute_result"
        }
      ],
      "source": [
        "list"
      ]
    },
    {
      "cell_type": "code",
      "execution_count": null,
      "metadata": {
        "id": "rAhtioll_8bJ"
      },
      "outputs": [],
      "source": [
        "# Define file paths\n",
        "system_messages_file = './responses/system/system_messages.txt'\n",
        "human_messages_file = './responses/human/human_messages.txt'\n",
        "ai_messages_file = './responses/ai/ai_messages.txt'\n",
        "\n",
        "# Initialize counters for each type of message\n",
        "system_index = 1\n",
        "human_index = 1\n",
        "ai_index = 1\n",
        "\n",
        "# Open files for writing\n",
        "with open(system_messages_file, 'w') as sys_file, open(human_messages_file, 'w') as hum_file, open(ai_messages_file, 'w') as ai_file:\n",
        "    # Iterate through the messages list\n",
        "    for message in messages:\n",
        "        # Check the type of the message and write to the corresponding file\n",
        "        if isinstance(message, SystemMessage):\n",
        "            sys_file.write(f\"SystemMessage index {system_index}:\\n{message.content}\\n\\n\")\n",
        "            system_index += 1\n",
        "        elif isinstance(message, HumanMessage):\n",
        "            hum_file.write(f\"HumanMessage index {human_index}:\\n{message.content}\\n\\n\")\n",
        "            human_index += 1\n",
        "        elif isinstance(message, AIMessage):\n",
        "            ai_file.write(f\"AIMessage index {ai_index}:\\n{message.content}\\n\\n\")\n",
        "            ai_index += 1\n",
        "\n",
        "print(\"Messages have been written to their respective files.\")"
      ]
    },
    {
      "cell_type": "markdown",
      "metadata": {
        "id": "k8ts7hkpAHME"
      },
      "source": [
        "### **Code for various methods used for integration into RAG**"
      ]
    },
    {
      "cell_type": "code",
      "execution_count": null,
      "metadata": {
        "id": "2SZ_IHrNAUTh"
      },
      "outputs": [],
      "source": []
    },
    {
      "cell_type": "markdown",
      "metadata": {
        "id": "WFDdRICw3y9u"
      },
      "source": [
        "#### Base RAG"
      ]
    },
    {
      "cell_type": "code",
      "execution_count": null,
      "metadata": {
        "colab": {
          "base_uri": "https://localhost:8080/"
        },
        "id": "nCtXcIJ8h3yt",
        "outputId": "3bcbb968-c796-425e-ed3e-c88861686944"
      },
      "outputs": [
        {
          "name": "stderr",
          "output_type": "stream",
          "text": [
            "/usr/local/lib/python3.10/dist-packages/langchain_core/_api/deprecation.py:119: LangChainDeprecationWarning: The class `OpenAI` was deprecated in LangChain 0.0.10 and will be removed in 0.3.0. An updated version of the class exists in the langchain-openai package and should be used instead. To use it run `pip install -U langchain-openai` and import as `from langchain_openai import OpenAI`.\n",
            "  warn_deprecated(\n"
          ]
        }
      ],
      "source": [
        "llm = OpenAI(temperature=0.9, max_tokens=2048)"
      ]
    },
    {
      "cell_type": "code",
      "execution_count": null,
      "metadata": {
        "id": "m9dIRCZnknG_"
      },
      "outputs": [],
      "source": [
        "vector_db = FAISS.from_documents(documents = split_documents, embedding = embeddings)"
      ]
    },
    {
      "cell_type": "code",
      "execution_count": null,
      "metadata": {
        "id": "yVZVkCkukrEy"
      },
      "outputs": [],
      "source": [
        "retriever = vector_db.as_retriever(search_kwargs={\"k\": 10})\n",
        "q = input(\"Please ask your query : \")\n",
        "# should fetch  n relevant documents\n",
        "rdocs = retriever.get_relevant_documents(q)"
      ]
    },
    {
      "cell_type": "code",
      "execution_count": null,
      "metadata": {
        "id": "P4CgdRzElA2R"
      },
      "outputs": [],
      "source": [
        "print(type(rdocs))\n",
        "print(len(rdocs))\n",
        "rdocs"
      ]
    },
    {
      "cell_type": "code",
      "execution_count": null,
      "metadata": {
        "id": "s7QjwxzBlNAS"
      },
      "outputs": [],
      "source": [
        "#design prompt template\n",
        "from langchain import PromptTemplate\n",
        "prompt_template = \"\"\"Use the following pieces of context to answer the question at the end, only using the data you are presented. If you don't know the answer, just say that you don't know, don't try to make up an answer. Keep the answer as detailed as possible. Always say \"Namaskaram\" at the end of the answer.\n",
        "context = {context}\n",
        "question = {question}\n",
        "Answer: \"\"\"\n",
        "PROMPT = PromptTemplate(template=prompt_template, input_variables=[\"context\", \"question\"])"
      ]
    },
    {
      "cell_type": "code",
      "execution_count": null,
      "metadata": {
        "id": "L_anmcqAlf6V"
      },
      "outputs": [],
      "source": [
        "# Modify the PromptTemplate to include context and question printing\n",
        "class CustomPromptTemplate(PromptTemplate):\n",
        "    def format_prompt(self, **kwargs):\n",
        "        context = kwargs.get(\"context\")\n",
        "        question = kwargs.get(\"question\")\n",
        "        print(f\"Question: {question}\")\n",
        "        print(f\"Context: {context}\")\n",
        "\n",
        "        return super().format_prompt(**kwargs)\n",
        "\n",
        "PROMPT = CustomPromptTemplate(template=prompt_template, input_variables=[\"context\", \"question\"])\n",
        "\n",
        "# Initialize the chain with the custom prompt template\n",
        "chain = RetrievalQA.from_chain_type(\n",
        "    llm=llm,\n",
        "    chain_type=\"stuff\",\n",
        "    retriever=retriever,\n",
        "    input_key=\"query\",\n",
        "    return_source_documents=True,\n",
        "    chain_type_kwargs={\"prompt\": PROMPT}\n",
        ")\n"
      ]
    },
    {
      "cell_type": "code",
      "execution_count": null,
      "metadata": {
        "id": "UDpksX3PeGoa"
      },
      "outputs": [],
      "source": [
        "result = chain.invoke(q)"
      ]
    },
    {
      "cell_type": "code",
      "execution_count": null,
      "metadata": {
        "id": "eCyY06n8lnXm"
      },
      "outputs": [],
      "source": [
        "print(result['result'])"
      ]
    },
    {
      "cell_type": "code",
      "execution_count": null,
      "metadata": {
        "id": "ZafbIwmap94E"
      },
      "outputs": [],
      "source": [
        "len(result['source_documents'])"
      ]
    },
    {
      "cell_type": "markdown",
      "metadata": {
        "id": "3PWh3SDFznH2"
      },
      "source": [
        "#### Multi Query Advanced Retrieval"
      ]
    },
    {
      "cell_type": "code",
      "execution_count": null,
      "metadata": {
        "colab": {
          "base_uri": "https://localhost:8080/"
        },
        "collapsed": true,
        "id": "XTO6wKLlzXo9",
        "outputId": "041a7a56-9b59-44d2-e871-87596f7f4919"
      },
      "outputs": [
        {
          "name": "stdout",
          "output_type": "stream",
          "text": [
            "Requirement already satisfied: chromadb in /usr/local/lib/python3.10/dist-packages (0.5.0)\n",
            "Requirement already satisfied: build>=1.0.3 in /usr/local/lib/python3.10/dist-packages (from chromadb) (1.2.1)\n",
            "Requirement already satisfied: requests>=2.28 in /usr/local/lib/python3.10/dist-packages (from chromadb) (2.31.0)\n",
            "Requirement already satisfied: pydantic>=1.9 in /usr/local/lib/python3.10/dist-packages (from chromadb) (2.7.3)\n",
            "Requirement already satisfied: chroma-hnswlib==0.7.3 in /usr/local/lib/python3.10/dist-packages (from chromadb) (0.7.3)\n",
            "Requirement already satisfied: fastapi>=0.95.2 in /usr/local/lib/python3.10/dist-packages (from chromadb) (0.111.0)\n",
            "Requirement already satisfied: uvicorn[standard]>=0.18.3 in /usr/local/lib/python3.10/dist-packages (from chromadb) (0.30.1)\n",
            "Requirement already satisfied: numpy>=1.22.5 in /usr/local/lib/python3.10/dist-packages (from chromadb) (1.25.2)\n",
            "Requirement already satisfied: posthog>=2.4.0 in /usr/local/lib/python3.10/dist-packages (from chromadb) (3.5.0)\n",
            "Requirement already satisfied: typing-extensions>=4.5.0 in /usr/local/lib/python3.10/dist-packages (from chromadb) (4.12.2)\n",
            "Requirement already satisfied: onnxruntime>=1.14.1 in /usr/local/lib/python3.10/dist-packages (from chromadb) (1.18.0)\n",
            "Requirement already satisfied: opentelemetry-api>=1.2.0 in /usr/local/lib/python3.10/dist-packages (from chromadb) (1.25.0)\n",
            "Requirement already satisfied: opentelemetry-exporter-otlp-proto-grpc>=1.2.0 in /usr/local/lib/python3.10/dist-packages (from chromadb) (1.25.0)\n",
            "Requirement already satisfied: opentelemetry-instrumentation-fastapi>=0.41b0 in /usr/local/lib/python3.10/dist-packages (from chromadb) (0.46b0)\n",
            "Requirement already satisfied: opentelemetry-sdk>=1.2.0 in /usr/local/lib/python3.10/dist-packages (from chromadb) (1.25.0)\n",
            "Requirement already satisfied: tokenizers>=0.13.2 in /usr/local/lib/python3.10/dist-packages (from chromadb) (0.19.1)\n",
            "Requirement already satisfied: pypika>=0.48.9 in /usr/local/lib/python3.10/dist-packages (from chromadb) (0.48.9)\n",
            "Requirement already satisfied: tqdm>=4.65.0 in /usr/local/lib/python3.10/dist-packages (from chromadb) (4.66.4)\n",
            "Requirement already satisfied: overrides>=7.3.1 in /usr/local/lib/python3.10/dist-packages (from chromadb) (7.7.0)\n",
            "Requirement already satisfied: importlib-resources in /usr/local/lib/python3.10/dist-packages (from chromadb) (6.4.0)\n",
            "Requirement already satisfied: grpcio>=1.58.0 in /usr/local/lib/python3.10/dist-packages (from chromadb) (1.64.1)\n",
            "Requirement already satisfied: bcrypt>=4.0.1 in /usr/local/lib/python3.10/dist-packages (from chromadb) (4.1.3)\n",
            "Requirement already satisfied: typer>=0.9.0 in /usr/local/lib/python3.10/dist-packages (from chromadb) (0.12.3)\n",
            "Requirement already satisfied: kubernetes>=28.1.0 in /usr/local/lib/python3.10/dist-packages (from chromadb) (30.1.0)\n",
            "Requirement already satisfied: tenacity>=8.2.3 in /usr/local/lib/python3.10/dist-packages (from chromadb) (8.3.0)\n",
            "Requirement already satisfied: PyYAML>=6.0.0 in /usr/local/lib/python3.10/dist-packages (from chromadb) (6.0.1)\n",
            "Requirement already satisfied: mmh3>=4.0.1 in /usr/local/lib/python3.10/dist-packages (from chromadb) (4.1.0)\n",
            "Requirement already satisfied: orjson>=3.9.12 in /usr/local/lib/python3.10/dist-packages (from chromadb) (3.10.4)\n",
            "Requirement already satisfied: packaging>=19.1 in /usr/local/lib/python3.10/dist-packages (from build>=1.0.3->chromadb) (23.2)\n",
            "Requirement already satisfied: pyproject_hooks in /usr/local/lib/python3.10/dist-packages (from build>=1.0.3->chromadb) (1.1.0)\n",
            "Requirement already satisfied: tomli>=1.1.0 in /usr/local/lib/python3.10/dist-packages (from build>=1.0.3->chromadb) (2.0.1)\n",
            "Requirement already satisfied: starlette<0.38.0,>=0.37.2 in /usr/local/lib/python3.10/dist-packages (from fastapi>=0.95.2->chromadb) (0.37.2)\n",
            "Requirement already satisfied: fastapi-cli>=0.0.2 in /usr/local/lib/python3.10/dist-packages (from fastapi>=0.95.2->chromadb) (0.0.4)\n",
            "Requirement already satisfied: httpx>=0.23.0 in /usr/local/lib/python3.10/dist-packages (from fastapi>=0.95.2->chromadb) (0.27.0)\n",
            "Requirement already satisfied: jinja2>=2.11.2 in /usr/local/lib/python3.10/dist-packages (from fastapi>=0.95.2->chromadb) (3.1.4)\n",
            "Requirement already satisfied: python-multipart>=0.0.7 in /usr/local/lib/python3.10/dist-packages (from fastapi>=0.95.2->chromadb) (0.0.9)\n",
            "Requirement already satisfied: ujson!=4.0.2,!=4.1.0,!=4.2.0,!=4.3.0,!=5.0.0,!=5.1.0,>=4.0.1 in /usr/local/lib/python3.10/dist-packages (from fastapi>=0.95.2->chromadb) (5.10.0)\n",
            "Requirement already satisfied: email_validator>=2.0.0 in /usr/local/lib/python3.10/dist-packages (from fastapi>=0.95.2->chromadb) (2.1.1)\n",
            "Requirement already satisfied: certifi>=14.05.14 in /usr/local/lib/python3.10/dist-packages (from kubernetes>=28.1.0->chromadb) (2024.6.2)\n",
            "Requirement already satisfied: six>=1.9.0 in /usr/local/lib/python3.10/dist-packages (from kubernetes>=28.1.0->chromadb) (1.16.0)\n",
            "Requirement already satisfied: python-dateutil>=2.5.3 in /usr/local/lib/python3.10/dist-packages (from kubernetes>=28.1.0->chromadb) (2.8.2)\n",
            "Requirement already satisfied: google-auth>=1.0.1 in /usr/local/lib/python3.10/dist-packages (from kubernetes>=28.1.0->chromadb) (2.27.0)\n",
            "Requirement already satisfied: websocket-client!=0.40.0,!=0.41.*,!=0.42.*,>=0.32.0 in /usr/local/lib/python3.10/dist-packages (from kubernetes>=28.1.0->chromadb) (1.8.0)\n",
            "Requirement already satisfied: requests-oauthlib in /usr/local/lib/python3.10/dist-packages (from kubernetes>=28.1.0->chromadb) (1.3.1)\n",
            "Requirement already satisfied: oauthlib>=3.2.2 in /usr/local/lib/python3.10/dist-packages (from kubernetes>=28.1.0->chromadb) (3.2.2)\n",
            "Requirement already satisfied: urllib3>=1.24.2 in /usr/local/lib/python3.10/dist-packages (from kubernetes>=28.1.0->chromadb) (2.0.7)\n",
            "Requirement already satisfied: coloredlogs in /usr/local/lib/python3.10/dist-packages (from onnxruntime>=1.14.1->chromadb) (15.0.1)\n",
            "Requirement already satisfied: flatbuffers in /usr/local/lib/python3.10/dist-packages (from onnxruntime>=1.14.1->chromadb) (24.3.25)\n",
            "Requirement already satisfied: protobuf in /usr/local/lib/python3.10/dist-packages (from onnxruntime>=1.14.1->chromadb) (3.20.3)\n",
            "Requirement already satisfied: sympy in /usr/local/lib/python3.10/dist-packages (from onnxruntime>=1.14.1->chromadb) (1.12.1)\n",
            "Requirement already satisfied: deprecated>=1.2.6 in /usr/local/lib/python3.10/dist-packages (from opentelemetry-api>=1.2.0->chromadb) (1.2.14)\n",
            "Requirement already satisfied: importlib-metadata<=7.1,>=6.0 in /usr/local/lib/python3.10/dist-packages (from opentelemetry-api>=1.2.0->chromadb) (7.1.0)\n",
            "Requirement already satisfied: googleapis-common-protos~=1.52 in /usr/local/lib/python3.10/dist-packages (from opentelemetry-exporter-otlp-proto-grpc>=1.2.0->chromadb) (1.63.1)\n",
            "Requirement already satisfied: opentelemetry-exporter-otlp-proto-common==1.25.0 in /usr/local/lib/python3.10/dist-packages (from opentelemetry-exporter-otlp-proto-grpc>=1.2.0->chromadb) (1.25.0)\n",
            "Requirement already satisfied: opentelemetry-proto==1.25.0 in /usr/local/lib/python3.10/dist-packages (from opentelemetry-exporter-otlp-proto-grpc>=1.2.0->chromadb) (1.25.0)\n",
            "Requirement already satisfied: opentelemetry-instrumentation-asgi==0.46b0 in /usr/local/lib/python3.10/dist-packages (from opentelemetry-instrumentation-fastapi>=0.41b0->chromadb) (0.46b0)\n",
            "Requirement already satisfied: opentelemetry-instrumentation==0.46b0 in /usr/local/lib/python3.10/dist-packages (from opentelemetry-instrumentation-fastapi>=0.41b0->chromadb) (0.46b0)\n",
            "Requirement already satisfied: opentelemetry-semantic-conventions==0.46b0 in /usr/local/lib/python3.10/dist-packages (from opentelemetry-instrumentation-fastapi>=0.41b0->chromadb) (0.46b0)\n",
            "Requirement already satisfied: opentelemetry-util-http==0.46b0 in /usr/local/lib/python3.10/dist-packages (from opentelemetry-instrumentation-fastapi>=0.41b0->chromadb) (0.46b0)\n",
            "Requirement already satisfied: setuptools>=16.0 in /usr/local/lib/python3.10/dist-packages (from opentelemetry-instrumentation==0.46b0->opentelemetry-instrumentation-fastapi>=0.41b0->chromadb) (67.7.2)\n",
            "Requirement already satisfied: wrapt<2.0.0,>=1.0.0 in /usr/local/lib/python3.10/dist-packages (from opentelemetry-instrumentation==0.46b0->opentelemetry-instrumentation-fastapi>=0.41b0->chromadb) (1.14.1)\n",
            "Requirement already satisfied: asgiref~=3.0 in /usr/local/lib/python3.10/dist-packages (from opentelemetry-instrumentation-asgi==0.46b0->opentelemetry-instrumentation-fastapi>=0.41b0->chromadb) (3.8.1)\n",
            "Requirement already satisfied: monotonic>=1.5 in /usr/local/lib/python3.10/dist-packages (from posthog>=2.4.0->chromadb) (1.6)\n",
            "Requirement already satisfied: backoff>=1.10.0 in /usr/local/lib/python3.10/dist-packages (from posthog>=2.4.0->chromadb) (2.2.1)\n",
            "Requirement already satisfied: annotated-types>=0.4.0 in /usr/local/lib/python3.10/dist-packages (from pydantic>=1.9->chromadb) (0.7.0)\n",
            "Requirement already satisfied: pydantic-core==2.18.4 in /usr/local/lib/python3.10/dist-packages (from pydantic>=1.9->chromadb) (2.18.4)\n",
            "Requirement already satisfied: charset-normalizer<4,>=2 in /usr/local/lib/python3.10/dist-packages (from requests>=2.28->chromadb) (3.3.2)\n",
            "Requirement already satisfied: idna<4,>=2.5 in /usr/local/lib/python3.10/dist-packages (from requests>=2.28->chromadb) (3.7)\n",
            "Requirement already satisfied: huggingface-hub<1.0,>=0.16.4 in /usr/local/lib/python3.10/dist-packages (from tokenizers>=0.13.2->chromadb) (0.23.3)\n",
            "Requirement already satisfied: click>=8.0.0 in /usr/local/lib/python3.10/dist-packages (from typer>=0.9.0->chromadb) (8.1.7)\n",
            "Requirement already satisfied: shellingham>=1.3.0 in /usr/local/lib/python3.10/dist-packages (from typer>=0.9.0->chromadb) (1.5.4)\n",
            "Requirement already satisfied: rich>=10.11.0 in /usr/local/lib/python3.10/dist-packages (from typer>=0.9.0->chromadb) (13.7.1)\n",
            "Requirement already satisfied: h11>=0.8 in /usr/local/lib/python3.10/dist-packages (from uvicorn[standard]>=0.18.3->chromadb) (0.14.0)\n",
            "Requirement already satisfied: httptools>=0.5.0 in /usr/local/lib/python3.10/dist-packages (from uvicorn[standard]>=0.18.3->chromadb) (0.6.1)\n",
            "Requirement already satisfied: python-dotenv>=0.13 in /usr/local/lib/python3.10/dist-packages (from uvicorn[standard]>=0.18.3->chromadb) (1.0.0)\n",
            "Requirement already satisfied: uvloop!=0.15.0,!=0.15.1,>=0.14.0 in /usr/local/lib/python3.10/dist-packages (from uvicorn[standard]>=0.18.3->chromadb) (0.19.0)\n",
            "Requirement already satisfied: watchfiles>=0.13 in /usr/local/lib/python3.10/dist-packages (from uvicorn[standard]>=0.18.3->chromadb) (0.22.0)\n",
            "Requirement already satisfied: websockets>=10.4 in /usr/local/lib/python3.10/dist-packages (from uvicorn[standard]>=0.18.3->chromadb) (12.0)\n",
            "Requirement already satisfied: dnspython>=2.0.0 in /usr/local/lib/python3.10/dist-packages (from email_validator>=2.0.0->fastapi>=0.95.2->chromadb) (2.6.1)\n",
            "Requirement already satisfied: cachetools<6.0,>=2.0.0 in /usr/local/lib/python3.10/dist-packages (from google-auth>=1.0.1->kubernetes>=28.1.0->chromadb) (5.3.3)\n",
            "Requirement already satisfied: pyasn1-modules>=0.2.1 in /usr/local/lib/python3.10/dist-packages (from google-auth>=1.0.1->kubernetes>=28.1.0->chromadb) (0.4.0)\n",
            "Requirement already satisfied: rsa<5,>=3.1.4 in /usr/local/lib/python3.10/dist-packages (from google-auth>=1.0.1->kubernetes>=28.1.0->chromadb) (4.9)\n",
            "Requirement already satisfied: anyio in /usr/local/lib/python3.10/dist-packages (from httpx>=0.23.0->fastapi>=0.95.2->chromadb) (3.7.1)\n",
            "Requirement already satisfied: httpcore==1.* in /usr/local/lib/python3.10/dist-packages (from httpx>=0.23.0->fastapi>=0.95.2->chromadb) (1.0.5)\n",
            "Requirement already satisfied: sniffio in /usr/local/lib/python3.10/dist-packages (from httpx>=0.23.0->fastapi>=0.95.2->chromadb) (1.3.1)\n",
            "Requirement already satisfied: filelock in /usr/local/lib/python3.10/dist-packages (from huggingface-hub<1.0,>=0.16.4->tokenizers>=0.13.2->chromadb) (3.14.0)\n",
            "Requirement already satisfied: fsspec>=2023.5.0 in /usr/local/lib/python3.10/dist-packages (from huggingface-hub<1.0,>=0.16.4->tokenizers>=0.13.2->chromadb) (2023.6.0)\n",
            "Requirement already satisfied: zipp>=0.5 in /usr/local/lib/python3.10/dist-packages (from importlib-metadata<=7.1,>=6.0->opentelemetry-api>=1.2.0->chromadb) (3.19.2)\n",
            "Requirement already satisfied: MarkupSafe>=2.0 in /usr/local/lib/python3.10/dist-packages (from jinja2>=2.11.2->fastapi>=0.95.2->chromadb) (2.1.5)\n",
            "Requirement already satisfied: markdown-it-py>=2.2.0 in /usr/local/lib/python3.10/dist-packages (from rich>=10.11.0->typer>=0.9.0->chromadb) (3.0.0)\n",
            "Requirement already satisfied: pygments<3.0.0,>=2.13.0 in /usr/local/lib/python3.10/dist-packages (from rich>=10.11.0->typer>=0.9.0->chromadb) (2.16.1)\n",
            "Requirement already satisfied: humanfriendly>=9.1 in /usr/local/lib/python3.10/dist-packages (from coloredlogs->onnxruntime>=1.14.1->chromadb) (10.0)\n",
            "Requirement already satisfied: mpmath<1.4.0,>=1.1.0 in /usr/local/lib/python3.10/dist-packages (from sympy->onnxruntime>=1.14.1->chromadb) (1.3.0)\n",
            "Requirement already satisfied: exceptiongroup in /usr/local/lib/python3.10/dist-packages (from anyio->httpx>=0.23.0->fastapi>=0.95.2->chromadb) (1.2.1)\n",
            "Requirement already satisfied: mdurl~=0.1 in /usr/local/lib/python3.10/dist-packages (from markdown-it-py>=2.2.0->rich>=10.11.0->typer>=0.9.0->chromadb) (0.1.2)\n",
            "Requirement already satisfied: pyasn1<0.7.0,>=0.4.6 in /usr/local/lib/python3.10/dist-packages (from pyasn1-modules>=0.2.1->google-auth>=1.0.1->kubernetes>=28.1.0->chromadb) (0.6.0)\n"
          ]
        }
      ],
      "source": [
        "!pip install chromadb"
      ]
    },
    {
      "cell_type": "code",
      "execution_count": null,
      "metadata": {
        "id": "al7MKf4tynNa"
      },
      "outputs": [],
      "source": [
        "vectordb2 = Chroma.from_documents(documents=split_documents, embedding=embeddings)"
      ]
    },
    {
      "cell_type": "code",
      "execution_count": null,
      "metadata": {
        "id": "bwlcmj73z6QP"
      },
      "outputs": [],
      "source": [
        "logging.basicConfig()\n",
        "logging.getLogger(\"langchain.retrievers.multi_query\").setLevel(logging.INFO)"
      ]
    },
    {
      "cell_type": "code",
      "execution_count": null,
      "metadata": {
        "colab": {
          "base_uri": "https://localhost:8080/"
        },
        "collapsed": true,
        "id": "euKgLHa-z8Mv",
        "outputId": "bb55c3ca-2f79-4887-e74b-3cea41cf7907"
      },
      "outputs": [
        {
          "name": "stderr",
          "output_type": "stream",
          "text": [
            "/usr/local/lib/python3.10/dist-packages/langchain_core/_api/deprecation.py:119: LangChainDeprecationWarning: The class `ChatOpenAI` was deprecated in LangChain 0.0.10 and will be removed in 0.3.0. An updated version of the class exists in the langchain-openai package and should be used instead. To use it run `pip install -U langchain-openai` and import as `from langchain_openai import ChatOpenAI`.\n",
            "  warn_deprecated(\n"
          ]
        }
      ],
      "source": [
        "question = \"What are arteries and what is their difference with the pulmonary artery\"\n",
        "llm = ChatOpenAI(temperature=0)\n",
        "\n",
        "retriever_from_llm = MultiQueryRetriever.from_llm(\n",
        "    retriever=vectordb2.as_retriever(search_type=\"mmr\",search_kwargs={\"k\":8}), llm=llm\n",
        ")"
      ]
    },
    {
      "cell_type": "code",
      "execution_count": null,
      "metadata": {
        "colab": {
          "base_uri": "https://localhost:8080/"
        },
        "collapsed": true,
        "id": "Hwrcgu_E0MNH",
        "outputId": "19c0fb20-0e90-4402-ed29-635715f69004"
      },
      "outputs": [
        {
          "name": "stderr",
          "output_type": "stream",
          "text": [
            "/usr/local/lib/python3.10/dist-packages/langchain_core/_api/deprecation.py:119: LangChainDeprecationWarning: The method `BaseRetriever.get_relevant_documents` was deprecated in langchain-core 0.1.46 and will be removed in 0.3.0. Use invoke instead.\n",
            "  warn_deprecated(\n",
            "INFO:langchain.retrievers.multi_query:Generated queries: ['1. Can you explain the function and distinction between arteries and the pulmonary artery?', '2. How do arteries differ from the pulmonary artery in terms of their roles in the circulatory system?', '3. What separates arteries from the pulmonary artery in terms of their anatomical and physiological characteristics?']\n"
          ]
        }
      ],
      "source": [
        "unique_docs = retriever_from_llm.get_relevant_documents(query=question)"
      ]
    },
    {
      "cell_type": "code",
      "execution_count": null,
      "metadata": {
        "colab": {
          "base_uri": "https://localhost:8080/"
        },
        "collapsed": true,
        "id": "A_BYKXrx0S8r",
        "outputId": "1704ae41-73b2-4f69-97dd-11fab85ed90d"
      },
      "outputs": [
        {
          "data": {
            "text/plain": [
              "[Document(page_content='SCIENCE\\n72\\nTable 7.1 Pulse rate\\nS. No.\\nName\\nPulse per minute\\n1.\\n2.\\n3.\\n4.\\n5.\\nPaheli explained that the\\npulmonary artery carries blood\\nfrom the heart, so it is called an\\nartery and not a vein. It carries\\ncarbon dioxide-rich blood to the\\nlungs. Pulmonary vein carries\\noxygen-rich blood from the\\nlungs to the heart. \\nVeins are the vessels which carry\\ncarbon dioxide-rich blood from all parts', metadata={'author': 'admin', 'creationDate': \"D:20220830115851+05'30'\", 'creator': 'PageMaker 7.0', 'file_path': '/content/drive/MyDrive/ncert_ocr/Class 7 Science/Class 7 - 107.pdf', 'format': 'PDF 1.6', 'keywords': '', 'modDate': \"D:20240521135656+05'30'\", 'page': 2, 'producer': 'Acrobat Distiller 10.1.16 (Windows)', 'source': '/content/drive/MyDrive/ncert_ocr/Class 7 Science/Class 7 - 107.pdf', 'subject': '', 'title': 'Ch_07.pmd', 'total_pages': 12, 'trapped': ''}),\n",
              " Document(page_content='Pulmonary\\nartery\\nPulmonary\\nvein\\nFig. 7.3  Schematic diagram of circulation\\nBlood Donation\\nHundreds of people die due to\\nunavailability of blood. Voluntary\\nblood donation is harmless and\\npainless and can save precious lives.\\nBlood can be donated at hospitals and\\nother places authorised by the\\ngovernment. Donated blood are stored\\nwith special care in Blood Banks.\\nReprint 2024-25', metadata={'author': 'admin', 'creationDate': \"D:20220830115851+05'30'\", 'creator': 'PageMaker 7.0', 'file_path': '/content/drive/MyDrive/ncert_ocr/Class 7 Science/Class 7 - 107.pdf', 'format': 'PDF 1.6', 'keywords': '', 'modDate': \"D:20240521135656+05'30'\", 'page': 2, 'producer': 'Acrobat Distiller 10.1.16 (Windows)', 'source': '/content/drive/MyDrive/ncert_ocr/Class 7 Science/Class 7 - 107.pdf', 'subject': '', 'title': 'Ch_07.pmd', 'total_pages': 12, 'trapped': ''}),\n",
              " Document(page_content='systolic pressure is about 120 mm of Hg and diastolic pressure is 80 mm of Hg.\\nThe tubes – blood vessels\\nArteries are the vessels which carry blood away from the heart to various\\norgans of the body. Since the blood emerges from the heart under high\\npressure, the arteries have thick, elastic walls. Veins collect the blood\\nfrom different organs and bring it back to the heart. They do not need', metadata={'author': 'admin', 'creationDate': 'D:20220817155729Z', 'creator': 'PageMaker 7.0', 'file_path': '/content/drive/MyDrive/ncert_ocr/Class 10 Science/Class 10 - 105.pdf', 'format': 'PDF 1.3', 'keywords': '', 'modDate': \"D:20240522144727+05'30'\", 'page': 14, 'producer': 'GPL Ghostscript 8.15', 'source': '/content/drive/MyDrive/ncert_ocr/Class 10 Science/Class 10 - 105.pdf', 'subject': '', 'title': 'CHAP 5.pmd', 'total_pages': 21, 'trapped': ''}),\n",
              " Document(page_content='have valves that ensure that the blood flows only in one direction.\\nOn reaching an organ or tissue, the artery divides into smaller and\\nsmaller vessels to bring the blood in contact with all the individual cells.\\nThe smallest vessels have walls which are one-cell thick and are called\\ncapillaries. Exchange of material between the blood and surrounding', metadata={'author': 'admin', 'creationDate': 'D:20220817155729Z', 'creator': 'PageMaker 7.0', 'file_path': '/content/drive/MyDrive/ncert_ocr/Class 10 Science/Class 10 - 105.pdf', 'format': 'PDF 1.3', 'keywords': '', 'modDate': \"D:20240522144727+05'30'\", 'page': 14, 'producer': 'GPL Ghostscript 8.15', 'source': '/content/drive/MyDrive/ncert_ocr/Class 10 Science/Class 10 - 105.pdf', 'subject': '', 'title': 'CHAP 5.pmd', 'total_pages': 21, 'trapped': ''}),\n",
              " Document(page_content='12. What are the differences between the transport of materials in xylem and phloem?\\n13. Compare the functioning of alveoli in the lungs and nephrons in the kidneys with\\nrespect to their structure and functioning.\\n2024-25', metadata={'author': 'admin', 'creationDate': 'D:20220817155729Z', 'creator': 'PageMaker 7.0', 'file_path': '/content/drive/MyDrive/ncert_ocr/Class 10 Science/Class 10 - 105.pdf', 'format': 'PDF 1.3', 'keywords': '', 'modDate': \"D:20240522144727+05'30'\", 'page': 20, 'producer': 'GPL Ghostscript 8.15', 'source': '/content/drive/MyDrive/ncert_ocr/Class 10 Science/Class 10 - 105.pdf', 'subject': '', 'title': 'CHAP 5.pmd', 'total_pages': 21, 'trapped': ''}),\n",
              " Document(page_content='Science\\n90\\nWithin the lungs, the passage divides into smaller and smaller\\ntubes which finally terminate in balloon-like structures which\\nare called alveoli (singular–alveolus). The alveoli provide a surface\\nwhere the exchange of gases can take place. The walls of the alveoli\\ncontain an extensive network of blood-vessels. As we have seen', metadata={'author': 'admin', 'creationDate': 'D:20220817155729Z', 'creator': 'PageMaker 7.0', 'file_path': '/content/drive/MyDrive/ncert_ocr/Class 10 Science/Class 10 - 105.pdf', 'format': 'PDF 1.3', 'keywords': '', 'modDate': \"D:20240522144727+05'30'\", 'page': 11, 'producer': 'GPL Ghostscript 8.15', 'source': '/content/drive/MyDrive/ncert_ocr/Class 10 Science/Class 10 - 105.pdf', 'subject': '', 'title': 'CHAP 5.pmd', 'total_pages': 21, 'trapped': ''}),\n",
              " Document(page_content='high pressure, the arteries have thick\\nelastic walls.\\nLet us perform an activity to study\\nthe flow of blood through arteries.\\nActivity 7.1\\nPlace the middle and index finger of\\nyour right hand on the inner side of your\\nleft wrist (Fig. 7.2). Can you feel some\\nthrobbing movements? Why do you\\nthink there is throbbing? This\\nthrobbing is called the pulse and it is', metadata={'author': 'admin', 'creationDate': \"D:20220830115851+05'30'\", 'creator': 'PageMaker 7.0', 'file_path': '/content/drive/MyDrive/ncert_ocr/Class 7 Science/Class 7 - 107.pdf', 'format': 'PDF 1.6', 'keywords': '', 'modDate': \"D:20240521135656+05'30'\", 'page': 1, 'producer': 'Acrobat Distiller 10.1.16 (Windows)', 'source': '/content/drive/MyDrive/ncert_ocr/Class 7 Science/Class 7 - 107.pdf', 'subject': '', 'title': 'Ch_07.pmd', 'total_pages': 12, 'trapped': ''}),\n",
              " Document(page_content='(iii)\\nArteries and veins are joined by a network of                         .\\n(iv)\\nThe rhythmic expansion and contraction of the heart is called\\n                        .\\n(v)\\nThe main excretory product in human beings is                         .\\n(vi)\\nSweat contains water and                         .\\n(vii)\\nKidneys eliminate the waste materials in the liquid form called\\n                       .', metadata={'author': 'admin', 'creationDate': \"D:20220830115851+05'30'\", 'creator': 'PageMaker 7.0', 'file_path': '/content/drive/MyDrive/ncert_ocr/Class 7 Science/Class 7 - 107.pdf', 'format': 'PDF 1.6', 'keywords': '', 'modDate': \"D:20240521135656+05'30'\", 'page': 10, 'producer': 'Acrobat Distiller 10.1.16 (Windows)', 'source': '/content/drive/MyDrive/ncert_ocr/Class 7 Science/Class 7 - 107.pdf', 'subject': '', 'title': 'Ch_07.pmd', 'total_pages': 12, 'trapped': ''}),\n",
              " Document(page_content='Blood vessels\\nThere are different types of blood vessels\\nin the body. You know that during\\ninhalation a fresh supply of oxygen fills\\nthe lungs. Oxygen has to be transported\\nto the rest of the body.\\nAlso, the blood picks up the waste\\nmaterials including carbon dioxide from\\nthe cells. This blood has to go back to\\nthe heart for transport to the lungs for\\nremoval of carbon dioxide as you have', metadata={'author': 'admin', 'creationDate': \"D:20220830115851+05'30'\", 'creator': 'PageMaker 7.0', 'file_path': '/content/drive/MyDrive/ncert_ocr/Class 7 Science/Class 7 - 107.pdf', 'format': 'PDF 1.6', 'keywords': '', 'modDate': \"D:20240521135656+05'30'\", 'page': 1, 'producer': 'Acrobat Distiller 10.1.16 (Windows)', 'source': '/content/drive/MyDrive/ncert_ocr/Class 7 Science/Class 7 - 107.pdf', 'subject': '', 'title': 'Ch_07.pmd', 'total_pages': 12, 'trapped': ''}),\n",
              " Document(page_content='Fig. 7.4  Sections of human heart\\nVena Cava\\nRight atrium\\nRight ventricle\\nPartition completely\\nseparating the two\\nhalves\\nLeft atrium\\nLeft ventricle\\nPulmonary artery\\nPulmonary vein\\nmixing up of blood rich in oxygen with\\nthe blood rich in carbon dioxide.\\nTo understand the functioning of the\\ncirculatory system, start from the right\\nside of the heart in Fig. 7.3 and follow', metadata={'author': 'admin', 'creationDate': \"D:20220830115851+05'30'\", 'creator': 'PageMaker 7.0', 'file_path': '/content/drive/MyDrive/ncert_ocr/Class 7 Science/Class 7 - 107.pdf', 'format': 'PDF 1.6', 'keywords': '', 'modDate': \"D:20240521135656+05'30'\", 'page': 3, 'producer': 'Acrobat Distiller 10.1.16 (Windows)', 'source': '/content/drive/MyDrive/ncert_ocr/Class 7 Science/Class 7 - 107.pdf', 'subject': '', 'title': 'Ch_07.pmd', 'total_pages': 12, 'trapped': ''}),\n",
              " Document(page_content='lungs for oxygenation. Since ventricles have to pump blood into various\\norgans, they have thicker muscular walls than the atria do. Valves ensure\\nthat blood does not flow backwards when the atria or ventricles contract.\\nOxygen enters the blood in the lungs\\nThe separation of the right side and the left side of\\nthe heart is useful to keep oxygenated and de-', metadata={'author': 'admin', 'creationDate': 'D:20220817155729Z', 'creator': 'PageMaker 7.0', 'file_path': '/content/drive/MyDrive/ncert_ocr/Class 10 Science/Class 10 - 105.pdf', 'format': 'PDF 1.3', 'keywords': '', 'modDate': \"D:20240522144727+05'30'\", 'page': 13, 'producer': 'GPL Ghostscript 8.15', 'source': '/content/drive/MyDrive/ncert_ocr/Class 10 Science/Class 10 - 105.pdf', 'subject': '', 'title': 'CHAP 5.pmd', 'total_pages': 21, 'trapped': ''}),\n",
              " Document(page_content='Oxygen enters the blood in the lungs\\nThe separation of the right side and the left side of\\nthe heart is useful to keep oxygenated and de-\\noxygenated blood from mixing. Such separation\\nallows a highly efficient supply of oxygen to the\\nbody. This is useful in animals that have high\\nenergy needs, such as birds and mammals, which\\nconstantly use energy to maintain their body', metadata={'author': 'admin', 'creationDate': 'D:20220817155729Z', 'creator': 'PageMaker 7.0', 'file_path': '/content/drive/MyDrive/ncert_ocr/Class 10 Science/Class 10 - 105.pdf', 'format': 'PDF 1.3', 'keywords': '', 'modDate': \"D:20240522144727+05'30'\", 'page': 13, 'producer': 'GPL Ghostscript 8.15', 'source': '/content/drive/MyDrive/ncert_ocr/Class 10 Science/Class 10 - 105.pdf', 'subject': '', 'title': 'CHAP 5.pmd', 'total_pages': 21, 'trapped': ''}),\n",
              " Document(page_content='person. This is called heart rate.\\n\\uf06e\\nArteries carry blood from the heart to all parts of the body.\\n\\uf06e\\nVeins carry blood from all parts of the body back to the heart.\\n\\uf06e\\nRemoval of waste products from the body is called excretion.\\nTranspiration\\nIn Class VI you learnt that plants\\nrelease a lot of water by the process of\\ntranspiration.\\n Plants absorb mineral nutrients and', metadata={'author': 'admin', 'creationDate': \"D:20220830115851+05'30'\", 'creator': 'PageMaker 7.0', 'file_path': '/content/drive/MyDrive/ncert_ocr/Class 7 Science/Class 7 - 107.pdf', 'format': 'PDF 1.6', 'keywords': '', 'modDate': \"D:20240521135656+05'30'\", 'page': 9, 'producer': 'Acrobat Distiller 10.1.16 (Windows)', 'source': '/content/drive/MyDrive/ncert_ocr/Class 7 Science/Class 7 - 107.pdf', 'subject': '', 'title': 'Ch_07.pmd', 'total_pages': 12, 'trapped': ''}),\n",
              " Document(page_content='Blood pressure\\nThe force that blood exerts against the wall of a vessel is called blood pressure. This\\npressure is much greater in arteries than in veins. The pressure of blood inside the\\nartery during ventricular systole (contraction) is called systolic pressure and pressure\\nin artery during ventricular diastole (relaxation) is called diastolic pressure. The normal', metadata={'author': 'admin', 'creationDate': 'D:20220817155729Z', 'creator': 'PageMaker 7.0', 'file_path': '/content/drive/MyDrive/ncert_ocr/Class 10 Science/Class 10 - 105.pdf', 'format': 'PDF 1.3', 'keywords': '', 'modDate': \"D:20240522144727+05'30'\", 'page': 14, 'producer': 'GPL Ghostscript 8.15', 'source': '/content/drive/MyDrive/ncert_ocr/Class 10 Science/Class 10 - 105.pdf', 'subject': '', 'title': 'CHAP 5.pmd', 'total_pages': 21, 'trapped': ''})]"
            ]
          },
          "execution_count": 26,
          "metadata": {},
          "output_type": "execute_result"
        }
      ],
      "source": [
        "len(unique_docs)\n",
        "unique_docs"
      ]
    },
    {
      "cell_type": "code",
      "execution_count": null,
      "metadata": {
        "id": "m3kuWR1O0VnQ"
      },
      "outputs": [],
      "source": [
        "prompt_template = \"\"\"Use the following pieces of context to answer the question at the end.\n",
        "If you don't know the answer, just say that you don't know, don't try to make up an answer.\n",
        "\n",
        "{context}\n",
        "\n",
        "Question: {question}\n",
        "Answer:\"\"\"\n",
        "PROMPT = PromptTemplate(\n",
        "    template=prompt_template, input_variables=[\"context\", \"question\"]\n",
        ")"
      ]
    },
    {
      "cell_type": "code",
      "execution_count": null,
      "metadata": {
        "id": "c-sBfRgB6BYT"
      },
      "outputs": [],
      "source": [
        "text=PROMPT.format_prompt(\n",
        "    context=unique_docs,\n",
        "    question=question\n",
        ")"
      ]
    },
    {
      "cell_type": "code",
      "execution_count": null,
      "metadata": {
        "colab": {
          "base_uri": "https://localhost:8080/"
        },
        "collapsed": true,
        "id": "cvXpOX5rD7Gv",
        "outputId": "994b09aa-7b0f-4542-c6a4-c923717b740d"
      },
      "outputs": [
        {
          "data": {
            "text/plain": [
              "[Document(page_content='SCIENCE\\n72\\nTable 7.1 Pulse rate\\nS. No.\\nName\\nPulse per minute\\n1.\\n2.\\n3.\\n4.\\n5.\\nPaheli explained that the\\npulmonary artery carries blood\\nfrom the heart, so it is called an\\nartery and not a vein. It carries\\ncarbon dioxide-rich blood to the\\nlungs. Pulmonary vein carries\\noxygen-rich blood from the\\nlungs to the heart. \\nVeins are the vessels which carry\\ncarbon dioxide-rich blood from all parts', metadata={'author': 'admin', 'creationDate': \"D:20220830115851+05'30'\", 'creator': 'PageMaker 7.0', 'file_path': '/content/drive/MyDrive/ncert_ocr/Class 7 Science/Class 7 - 107.pdf', 'format': 'PDF 1.6', 'keywords': '', 'modDate': \"D:20240521135656+05'30'\", 'page': 2, 'producer': 'Acrobat Distiller 10.1.16 (Windows)', 'source': '/content/drive/MyDrive/ncert_ocr/Class 7 Science/Class 7 - 107.pdf', 'subject': '', 'title': 'Ch_07.pmd', 'total_pages': 12, 'trapped': ''}),\n",
              " Document(page_content='Pulmonary\\nartery\\nPulmonary\\nvein\\nFig. 7.3  Schematic diagram of circulation\\nBlood Donation\\nHundreds of people die due to\\nunavailability of blood. Voluntary\\nblood donation is harmless and\\npainless and can save precious lives.\\nBlood can be donated at hospitals and\\nother places authorised by the\\ngovernment. Donated blood are stored\\nwith special care in Blood Banks.\\nReprint 2024-25', metadata={'author': 'admin', 'creationDate': \"D:20220830115851+05'30'\", 'creator': 'PageMaker 7.0', 'file_path': '/content/drive/MyDrive/ncert_ocr/Class 7 Science/Class 7 - 107.pdf', 'format': 'PDF 1.6', 'keywords': '', 'modDate': \"D:20240521135656+05'30'\", 'page': 2, 'producer': 'Acrobat Distiller 10.1.16 (Windows)', 'source': '/content/drive/MyDrive/ncert_ocr/Class 7 Science/Class 7 - 107.pdf', 'subject': '', 'title': 'Ch_07.pmd', 'total_pages': 12, 'trapped': ''}),\n",
              " Document(page_content='systolic pressure is about 120 mm of Hg and diastolic pressure is 80 mm of Hg.\\nThe tubes – blood vessels\\nArteries are the vessels which carry blood away from the heart to various\\norgans of the body. Since the blood emerges from the heart under high\\npressure, the arteries have thick, elastic walls. Veins collect the blood\\nfrom different organs and bring it back to the heart. They do not need', metadata={'author': 'admin', 'creationDate': 'D:20220817155729Z', 'creator': 'PageMaker 7.0', 'file_path': '/content/drive/MyDrive/ncert_ocr/Class 10 Science/Class 10 - 105.pdf', 'format': 'PDF 1.3', 'keywords': '', 'modDate': \"D:20240522144727+05'30'\", 'page': 14, 'producer': 'GPL Ghostscript 8.15', 'source': '/content/drive/MyDrive/ncert_ocr/Class 10 Science/Class 10 - 105.pdf', 'subject': '', 'title': 'CHAP 5.pmd', 'total_pages': 21, 'trapped': ''}),\n",
              " Document(page_content='have valves that ensure that the blood flows only in one direction.\\nOn reaching an organ or tissue, the artery divides into smaller and\\nsmaller vessels to bring the blood in contact with all the individual cells.\\nThe smallest vessels have walls which are one-cell thick and are called\\ncapillaries. Exchange of material between the blood and surrounding', metadata={'author': 'admin', 'creationDate': 'D:20220817155729Z', 'creator': 'PageMaker 7.0', 'file_path': '/content/drive/MyDrive/ncert_ocr/Class 10 Science/Class 10 - 105.pdf', 'format': 'PDF 1.3', 'keywords': '', 'modDate': \"D:20240522144727+05'30'\", 'page': 14, 'producer': 'GPL Ghostscript 8.15', 'source': '/content/drive/MyDrive/ncert_ocr/Class 10 Science/Class 10 - 105.pdf', 'subject': '', 'title': 'CHAP 5.pmd', 'total_pages': 21, 'trapped': ''}),\n",
              " Document(page_content='12. What are the differences between the transport of materials in xylem and phloem?\\n13. Compare the functioning of alveoli in the lungs and nephrons in the kidneys with\\nrespect to their structure and functioning.\\n2024-25', metadata={'author': 'admin', 'creationDate': 'D:20220817155729Z', 'creator': 'PageMaker 7.0', 'file_path': '/content/drive/MyDrive/ncert_ocr/Class 10 Science/Class 10 - 105.pdf', 'format': 'PDF 1.3', 'keywords': '', 'modDate': \"D:20240522144727+05'30'\", 'page': 20, 'producer': 'GPL Ghostscript 8.15', 'source': '/content/drive/MyDrive/ncert_ocr/Class 10 Science/Class 10 - 105.pdf', 'subject': '', 'title': 'CHAP 5.pmd', 'total_pages': 21, 'trapped': ''}),\n",
              " Document(page_content='Science\\n90\\nWithin the lungs, the passage divides into smaller and smaller\\ntubes which finally terminate in balloon-like structures which\\nare called alveoli (singular–alveolus). The alveoli provide a surface\\nwhere the exchange of gases can take place. The walls of the alveoli\\ncontain an extensive network of blood-vessels. As we have seen', metadata={'author': 'admin', 'creationDate': 'D:20220817155729Z', 'creator': 'PageMaker 7.0', 'file_path': '/content/drive/MyDrive/ncert_ocr/Class 10 Science/Class 10 - 105.pdf', 'format': 'PDF 1.3', 'keywords': '', 'modDate': \"D:20240522144727+05'30'\", 'page': 11, 'producer': 'GPL Ghostscript 8.15', 'source': '/content/drive/MyDrive/ncert_ocr/Class 10 Science/Class 10 - 105.pdf', 'subject': '', 'title': 'CHAP 5.pmd', 'total_pages': 21, 'trapped': ''}),\n",
              " Document(page_content='high pressure, the arteries have thick\\nelastic walls.\\nLet us perform an activity to study\\nthe flow of blood through arteries.\\nActivity 7.1\\nPlace the middle and index finger of\\nyour right hand on the inner side of your\\nleft wrist (Fig. 7.2). Can you feel some\\nthrobbing movements? Why do you\\nthink there is throbbing? This\\nthrobbing is called the pulse and it is', metadata={'author': 'admin', 'creationDate': \"D:20220830115851+05'30'\", 'creator': 'PageMaker 7.0', 'file_path': '/content/drive/MyDrive/ncert_ocr/Class 7 Science/Class 7 - 107.pdf', 'format': 'PDF 1.6', 'keywords': '', 'modDate': \"D:20240521135656+05'30'\", 'page': 1, 'producer': 'Acrobat Distiller 10.1.16 (Windows)', 'source': '/content/drive/MyDrive/ncert_ocr/Class 7 Science/Class 7 - 107.pdf', 'subject': '', 'title': 'Ch_07.pmd', 'total_pages': 12, 'trapped': ''}),\n",
              " Document(page_content='(iii)\\nArteries and veins are joined by a network of                         .\\n(iv)\\nThe rhythmic expansion and contraction of the heart is called\\n                        .\\n(v)\\nThe main excretory product in human beings is                         .\\n(vi)\\nSweat contains water and                         .\\n(vii)\\nKidneys eliminate the waste materials in the liquid form called\\n                       .', metadata={'author': 'admin', 'creationDate': \"D:20220830115851+05'30'\", 'creator': 'PageMaker 7.0', 'file_path': '/content/drive/MyDrive/ncert_ocr/Class 7 Science/Class 7 - 107.pdf', 'format': 'PDF 1.6', 'keywords': '', 'modDate': \"D:20240521135656+05'30'\", 'page': 10, 'producer': 'Acrobat Distiller 10.1.16 (Windows)', 'source': '/content/drive/MyDrive/ncert_ocr/Class 7 Science/Class 7 - 107.pdf', 'subject': '', 'title': 'Ch_07.pmd', 'total_pages': 12, 'trapped': ''}),\n",
              " Document(page_content='Blood vessels\\nThere are different types of blood vessels\\nin the body. You know that during\\ninhalation a fresh supply of oxygen fills\\nthe lungs. Oxygen has to be transported\\nto the rest of the body.\\nAlso, the blood picks up the waste\\nmaterials including carbon dioxide from\\nthe cells. This blood has to go back to\\nthe heart for transport to the lungs for\\nremoval of carbon dioxide as you have', metadata={'author': 'admin', 'creationDate': \"D:20220830115851+05'30'\", 'creator': 'PageMaker 7.0', 'file_path': '/content/drive/MyDrive/ncert_ocr/Class 7 Science/Class 7 - 107.pdf', 'format': 'PDF 1.6', 'keywords': '', 'modDate': \"D:20240521135656+05'30'\", 'page': 1, 'producer': 'Acrobat Distiller 10.1.16 (Windows)', 'source': '/content/drive/MyDrive/ncert_ocr/Class 7 Science/Class 7 - 107.pdf', 'subject': '', 'title': 'Ch_07.pmd', 'total_pages': 12, 'trapped': ''}),\n",
              " Document(page_content='Fig. 7.4  Sections of human heart\\nVena Cava\\nRight atrium\\nRight ventricle\\nPartition completely\\nseparating the two\\nhalves\\nLeft atrium\\nLeft ventricle\\nPulmonary artery\\nPulmonary vein\\nmixing up of blood rich in oxygen with\\nthe blood rich in carbon dioxide.\\nTo understand the functioning of the\\ncirculatory system, start from the right\\nside of the heart in Fig. 7.3 and follow', metadata={'author': 'admin', 'creationDate': \"D:20220830115851+05'30'\", 'creator': 'PageMaker 7.0', 'file_path': '/content/drive/MyDrive/ncert_ocr/Class 7 Science/Class 7 - 107.pdf', 'format': 'PDF 1.6', 'keywords': '', 'modDate': \"D:20240521135656+05'30'\", 'page': 3, 'producer': 'Acrobat Distiller 10.1.16 (Windows)', 'source': '/content/drive/MyDrive/ncert_ocr/Class 7 Science/Class 7 - 107.pdf', 'subject': '', 'title': 'Ch_07.pmd', 'total_pages': 12, 'trapped': ''}),\n",
              " Document(page_content='lungs for oxygenation. Since ventricles have to pump blood into various\\norgans, they have thicker muscular walls than the atria do. Valves ensure\\nthat blood does not flow backwards when the atria or ventricles contract.\\nOxygen enters the blood in the lungs\\nThe separation of the right side and the left side of\\nthe heart is useful to keep oxygenated and de-', metadata={'author': 'admin', 'creationDate': 'D:20220817155729Z', 'creator': 'PageMaker 7.0', 'file_path': '/content/drive/MyDrive/ncert_ocr/Class 10 Science/Class 10 - 105.pdf', 'format': 'PDF 1.3', 'keywords': '', 'modDate': \"D:20240522144727+05'30'\", 'page': 13, 'producer': 'GPL Ghostscript 8.15', 'source': '/content/drive/MyDrive/ncert_ocr/Class 10 Science/Class 10 - 105.pdf', 'subject': '', 'title': 'CHAP 5.pmd', 'total_pages': 21, 'trapped': ''}),\n",
              " Document(page_content='Oxygen enters the blood in the lungs\\nThe separation of the right side and the left side of\\nthe heart is useful to keep oxygenated and de-\\noxygenated blood from mixing. Such separation\\nallows a highly efficient supply of oxygen to the\\nbody. This is useful in animals that have high\\nenergy needs, such as birds and mammals, which\\nconstantly use energy to maintain their body', metadata={'author': 'admin', 'creationDate': 'D:20220817155729Z', 'creator': 'PageMaker 7.0', 'file_path': '/content/drive/MyDrive/ncert_ocr/Class 10 Science/Class 10 - 105.pdf', 'format': 'PDF 1.3', 'keywords': '', 'modDate': \"D:20240522144727+05'30'\", 'page': 13, 'producer': 'GPL Ghostscript 8.15', 'source': '/content/drive/MyDrive/ncert_ocr/Class 10 Science/Class 10 - 105.pdf', 'subject': '', 'title': 'CHAP 5.pmd', 'total_pages': 21, 'trapped': ''}),\n",
              " Document(page_content='person. This is called heart rate.\\n\\uf06e\\nArteries carry blood from the heart to all parts of the body.\\n\\uf06e\\nVeins carry blood from all parts of the body back to the heart.\\n\\uf06e\\nRemoval of waste products from the body is called excretion.\\nTranspiration\\nIn Class VI you learnt that plants\\nrelease a lot of water by the process of\\ntranspiration.\\n Plants absorb mineral nutrients and', metadata={'author': 'admin', 'creationDate': \"D:20220830115851+05'30'\", 'creator': 'PageMaker 7.0', 'file_path': '/content/drive/MyDrive/ncert_ocr/Class 7 Science/Class 7 - 107.pdf', 'format': 'PDF 1.6', 'keywords': '', 'modDate': \"D:20240521135656+05'30'\", 'page': 9, 'producer': 'Acrobat Distiller 10.1.16 (Windows)', 'source': '/content/drive/MyDrive/ncert_ocr/Class 7 Science/Class 7 - 107.pdf', 'subject': '', 'title': 'Ch_07.pmd', 'total_pages': 12, 'trapped': ''}),\n",
              " Document(page_content='Blood pressure\\nThe force that blood exerts against the wall of a vessel is called blood pressure. This\\npressure is much greater in arteries than in veins. The pressure of blood inside the\\nartery during ventricular systole (contraction) is called systolic pressure and pressure\\nin artery during ventricular diastole (relaxation) is called diastolic pressure. The normal', metadata={'author': 'admin', 'creationDate': 'D:20220817155729Z', 'creator': 'PageMaker 7.0', 'file_path': '/content/drive/MyDrive/ncert_ocr/Class 10 Science/Class 10 - 105.pdf', 'format': 'PDF 1.3', 'keywords': '', 'modDate': \"D:20240522144727+05'30'\", 'page': 14, 'producer': 'GPL Ghostscript 8.15', 'source': '/content/drive/MyDrive/ncert_ocr/Class 10 Science/Class 10 - 105.pdf', 'subject': '', 'title': 'CHAP 5.pmd', 'total_pages': 21, 'trapped': ''})]"
            ]
          },
          "execution_count": 29,
          "metadata": {},
          "output_type": "execute_result"
        }
      ],
      "source": [
        "unique_docs"
      ]
    },
    {
      "cell_type": "code",
      "execution_count": null,
      "metadata": {
        "colab": {
          "base_uri": "https://localhost:8080/",
          "height": 127
        },
        "collapsed": true,
        "id": "YzgHFyQh0k_4",
        "outputId": "7fa239d7-64b6-4cbe-823d-2b2cd7f37ea1"
      },
      "outputs": [
        {
          "name": "stderr",
          "output_type": "stream",
          "text": [
            "/usr/local/lib/python3.10/dist-packages/langchain_core/_api/deprecation.py:119: LangChainDeprecationWarning: The method `BaseChatModel.predict` was deprecated in langchain-core 0.1.7 and will be removed in 0.3.0. Use invoke instead.\n",
            "  warn_deprecated(\n"
          ]
        },
        {
          "data": {
            "application/vnd.google.colaboratory.intrinsic+json": {
              "type": "string"
            },
            "text/plain": [
              "'Arteries are blood vessels that carry blood away from the heart to various organs of the body. The main difference between arteries and the pulmonary artery is that the pulmonary artery carries carbon dioxide-rich blood from the heart to the lungs, while other arteries carry oxygen-rich blood to different parts of the body.'"
            ]
          },
          "execution_count": 30,
          "metadata": {},
          "output_type": "execute_result"
        }
      ],
      "source": [
        "llm.predict(text=PROMPT.format_prompt(\n",
        "    context=unique_docs,\n",
        "    question=question\n",
        ").text)"
      ]
    },
    {
      "cell_type": "code",
      "execution_count": null,
      "metadata": {
        "id": "q0fN5ItQ0z8a"
      },
      "outputs": [],
      "source": [
        "llm = ChatOpenAI(temperature=0, model='gpt-4')\n",
        "\n",
        "compressor = LLMChainExtractor.from_llm(llm)\n",
        "compression_retriever = ContextualCompressionRetriever(base_compressor=compressor,\n",
        "                                                       base_retriever=vectordb2.as_retriever(search_type=\"mmr\",search_kwargs={\"k\":8, \"lambda_mult\": 0.8}))"
      ]
    },
    {
      "cell_type": "code",
      "execution_count": null,
      "metadata": {
        "id": "Cj0NlSxF1dcI"
      },
      "outputs": [],
      "source": [
        "compressed_docs = compression_retriever.get_relevant_documents(question)"
      ]
    },
    {
      "cell_type": "code",
      "execution_count": null,
      "metadata": {
        "colab": {
          "base_uri": "https://localhost:8080/"
        },
        "collapsed": true,
        "id": "szdKZBtv1i2U",
        "outputId": "6717437e-22e2-48aa-e365-fe98ff309ee3"
      },
      "outputs": [
        {
          "name": "stdout",
          "output_type": "stream",
          "text": [
            "1\n"
          ]
        },
        {
          "data": {
            "text/plain": [
              "list"
            ]
          },
          "execution_count": 34,
          "metadata": {},
          "output_type": "execute_result"
        }
      ],
      "source": [
        "print(len(compressed_docs))\n",
        "type(compressed_docs)"
      ]
    },
    {
      "cell_type": "code",
      "execution_count": null,
      "metadata": {
        "colab": {
          "base_uri": "https://localhost:8080/"
        },
        "collapsed": true,
        "id": "IE2gMYdq-fon",
        "outputId": "7e2bc7be-85a8-41e2-824f-31e984662680"
      },
      "outputs": [
        {
          "name": "stdout",
          "output_type": "stream",
          "text": [
            "Paheli explained that the pulmonary artery carries blood from the heart, so it is called an artery and not a vein. It carries carbon dioxide-rich blood to the lungs. Pulmonary vein carries oxygen-rich blood from the lungs to the heart.\n"
          ]
        }
      ],
      "source": [
        "for i in range(len(compressed_docs)):\n",
        "  print(compressed_docs[i].page_content)"
      ]
    },
    {
      "cell_type": "code",
      "execution_count": null,
      "metadata": {
        "colab": {
          "base_uri": "https://localhost:8080/"
        },
        "collapsed": true,
        "id": "ux5vGwes1sc7",
        "outputId": "fa6c0ecd-fe78-42b9-b60f-fe286469f321"
      },
      "outputs": [
        {
          "data": {
            "text/plain": [
              "str"
            ]
          },
          "execution_count": 36,
          "metadata": {},
          "output_type": "execute_result"
        }
      ],
      "source": [
        "output = llm.predict(text=PROMPT.format_prompt(\n",
        "    context=compressed_docs,\n",
        "    question=question\n",
        ").text)\n",
        "\n",
        "type(output)"
      ]
    },
    {
      "cell_type": "code",
      "execution_count": null,
      "metadata": {
        "id": "FQsmJQBSFoK0"
      },
      "outputs": [],
      "source": [
        "question = \"What are arteries and what is their difference with the pulmonary artery\"\n",
        "llm = ChatOpenAI(temperature=0)\n",
        "\n",
        "retriever_from_llm = MultiQueryRetriever.from_llm(\n",
        "    retriever=vectordb2.as_retriever(search_type=\"mmr\",search_kwargs={\"k\":8}), llm=llm\n",
        ")\n"
      ]
    },
    {
      "cell_type": "code",
      "execution_count": null,
      "metadata": {
        "id": "xQD_5edmF8Um"
      },
      "outputs": [],
      "source": []
    },
    {
      "cell_type": "markdown",
      "metadata": {
        "id": "Or23Mcow5f4I"
      },
      "source": [
        "#### Advanced RAG"
      ]
    },
    {
      "cell_type": "code",
      "execution_count": null,
      "metadata": {
        "id": "-g5Rq9c2GmeC"
      },
      "outputs": [],
      "source": [
        "llm = ChatOpenAI(openai_api_key=openai_api_key, temperature=0, model='gpt-4o')"
      ]
    },
    {
      "cell_type": "code",
      "execution_count": null,
      "metadata": {
        "colab": {
          "base_uri": "https://localhost:8080/"
        },
        "collapsed": true,
        "id": "dH5qLuobHPS7",
        "outputId": "b10acb56-6e78-458f-84c4-6bd208c87e23"
      },
      "outputs": [
        {
          "name": "stderr",
          "output_type": "stream",
          "text": [
            "/usr/local/lib/python3.10/dist-packages/langchain_core/_api/deprecation.py:119: LangChainDeprecationWarning: The method `BaseChatModel.__call__` was deprecated in langchain-core 0.1.7 and will be removed in 0.3.0. Use invoke instead.\n",
            "  warn_deprecated(\n"
          ]
        },
        {
          "data": {
            "text/plain": [
              "AIMessage(content='भारतस्य कति राज्यानि सन्ति?', response_metadata={'token_usage': {'completion_tokens': 10, 'prompt_tokens': 48, 'total_tokens': 58}, 'model_name': 'gpt-4o', 'system_fingerprint': 'fp_319be4768e', 'finish_reason': 'stop', 'logprobs': None}, id='run-2259710d-4f9f-4915-adcf-7291333b0386-0')"
            ]
          },
          "execution_count": 41,
          "metadata": {},
          "output_type": "execute_result"
        }
      ],
      "source": [
        "messages = [\n",
        "    SystemMessage(content=\"You are a helpful assistant that translates English to Sankrit.\"),\n",
        "    HumanMessage(content=\"What is the capital of India?\"),\n",
        "    AIMessage(content=\"New Delhi\"),\n",
        "    HumanMessage(content=\"How many states are there in India?\")\n",
        "]\n",
        "llm(messages)"
      ]
    },
    {
      "cell_type": "code",
      "execution_count": null,
      "metadata": {
        "id": "LIOb5KdUHtB4"
      },
      "outputs": [],
      "source": [
        "prompt = PromptTemplate(\n",
        "    input_variables=[\"data\"],\n",
        "    template=''' Give a funny poem, given the user's query and data given below\n",
        "     {data}  '''\n",
        ")\n",
        "\n",
        "system_message_prompt = SystemMessagePromptTemplate(prompt=prompt)"
      ]
    },
    {
      "cell_type": "code",
      "execution_count": null,
      "metadata": {
        "colab": {
          "base_uri": "https://localhost:8080/"
        },
        "collapsed": true,
        "id": "AXU7moE5LWoG",
        "outputId": "cd915baf-dc74-4617-e514-9c2975ac53ba"
      },
      "outputs": [
        {
          "data": {
            "text/plain": [
              "SystemMessage(content=' Give a funny poem, given the user\\'s query and data given below\\n     [Document(page_content=\\'Paheli explained that the pulmonary artery carries blood from the heart, so it is called an artery and not a vein. It carries carbon dioxide-rich blood to the lungs. Pulmonary vein carries oxygen-rich blood from the lungs to the heart.\\', metadata={\\'author\\': \\'admin\\', \\'creationDate\\': \"D:20220830115851+05\\'30\\'\", \\'creator\\': \\'PageMaker 7.0\\', \\'file_path\\': \\'/content/drive/MyDrive/ncert_ocr/Class 7 Science/Class 7 - 107.pdf\\', \\'format\\': \\'PDF 1.6\\', \\'keywords\\': \\'\\', \\'modDate\\': \"D:20240521135656+05\\'30\\'\", \\'page\\': 2, \\'producer\\': \\'Acrobat Distiller 10.1.16 (Windows)\\', \\'source\\': \\'/content/drive/MyDrive/ncert_ocr/Class 7 Science/Class 7 - 107.pdf\\', \\'subject\\': \\'\\', \\'title\\': \\'Ch_07.pmd\\', \\'total_pages\\': 12, \\'trapped\\': \\'\\'})]  ')"
            ]
          },
          "execution_count": 43,
          "metadata": {},
          "output_type": "execute_result"
        }
      ],
      "source": [
        "system_message_prompt.format(data = compressed_docs)"
      ]
    },
    {
      "cell_type": "code",
      "execution_count": null,
      "metadata": {
        "id": "Nyoykqp9LZiy"
      },
      "outputs": [],
      "source": [
        "human_template = \"{query}\"\n",
        "human_message_prompt = HumanMessagePromptTemplate.from_template(human_template)"
      ]
    },
    {
      "cell_type": "code",
      "execution_count": null,
      "metadata": {
        "colab": {
          "base_uri": "https://localhost:8080/"
        },
        "collapsed": true,
        "id": "O2VfzfvJM7OO",
        "outputId": "842e8977-f0b9-4796-e1bd-8b2944eceff7"
      },
      "outputs": [
        {
          "data": {
            "text/plain": [
              "ChatPromptTemplate(input_variables=['data', 'query'], messages=[SystemMessagePromptTemplate(prompt=PromptTemplate(input_variables=['data'], template=\" Give a funny poem, given the user's query and data given below\\n     {data}  \")), HumanMessagePromptTemplate(prompt=PromptTemplate(input_variables=['query'], template='{query}'))])"
            ]
          },
          "execution_count": 45,
          "metadata": {},
          "output_type": "execute_result"
        }
      ],
      "source": [
        "chat_prompt = ChatPromptTemplate.from_messages([system_message_prompt, human_message_prompt])\n",
        "chat_prompt"
      ]
    },
    {
      "cell_type": "code",
      "execution_count": null,
      "metadata": {
        "colab": {
          "base_uri": "https://localhost:8080/"
        },
        "collapsed": true,
        "id": "DSlqFVBiNYy_",
        "outputId": "7601108e-1449-4100-e74d-bc121d4a6665"
      },
      "outputs": [
        {
          "name": "stdout",
          "output_type": "stream",
          "text": [
            "Please input your query: meristematic tissue\n"
          ]
        }
      ],
      "source": [
        "input_query = input(\"Please input your query: \")"
      ]
    },
    {
      "cell_type": "code",
      "execution_count": null,
      "metadata": {
        "colab": {
          "base_uri": "https://localhost:8080/"
        },
        "collapsed": true,
        "id": "0E94mcVyNqcz",
        "outputId": "6dd1b2c3-b05a-48c4-cfaf-2e8fad68c7c2"
      },
      "outputs": [
        {
          "name": "stderr",
          "output_type": "stream",
          "text": [
            "INFO:langchain.retrievers.multi_query:Generated queries: ['1. What is the function of meristematic tissue in plants?', '2. How does meristematic tissue contribute to plant growth and development?', '3. Can you explain the role of meristematic tissue in plant biology?']\n"
          ]
        }
      ],
      "source": [
        "input_data = retriever_from_llm.get_relevant_documents(query=input_query)"
      ]
    },
    {
      "cell_type": "code",
      "execution_count": null,
      "metadata": {
        "colab": {
          "base_uri": "https://localhost:8080/"
        },
        "collapsed": true,
        "id": "yrnvwZP0OlpU",
        "outputId": "e3e844bc-a736-480a-f35a-294ba3380277"
      },
      "outputs": [
        {
          "name": "stdout",
          "output_type": "stream",
          "text": [
            "[Document(page_content='Lateral meristem\\nuestions\\n1.\\nWhat is a tissue?\\n2.\\nWhat is the utility of tissues in\\nmulti-cellular organisms?\\n6.2 Plant Tissues\\n6.2.1 MERISTEMATIC TISSUE\\n•\\nFrom the above observations, answer\\nthe following questions:\\n1. Which of the two onions has longer\\nroots? Why?\\n2. Do the roots continue growing\\neven after we have removed their\\ntips?\\n3. Why would the tips stop growing', metadata={'author': 'admin', 'creationDate': \"D:20220822205120+05'30'\", 'creator': 'Bullzip PDF Printer (12.2.0.2905)', 'file_path': '/content/drive/MyDrive/ncert_ocr/Class 9 Science/Class 9 - 106.pdf', 'format': 'PDF 1.5', 'keywords': '', 'modDate': \"D:20240520133837+05'30'\", 'page': 1, 'producer': 'PDF Printer / www.bullzip.com / FG / Freeware Edition (max 10 users)', 'source': '/content/drive/MyDrive/ncert_ocr/Class 9 Science/Class 9 - 106.pdf', 'subject': '', 'title': 'D:\\\\Textbooks\\\\Rationalised Books\\\\0964-Science\\\\1 Source Files\\\\Chapter-6\\\\CHAP 6.pmd', 'total_pages': 12, 'trapped': ''}), Document(page_content='The growth of plants occurs only in certain\\nspecific regions. This is because the dividing\\ntissue, also known as meristematic tissue, is\\nlocated only at these points. Depending on\\nthe region where they are present,\\nmeristematic tissues are classified as apical,\\nlateral and intercalary (Fig. 6.2). New cells\\nproduced by meristem are initially like those\\nof meristem itself, but as they grow and', metadata={'author': 'admin', 'creationDate': \"D:20220822205120+05'30'\", 'creator': 'Bullzip PDF Printer (12.2.0.2905)', 'file_path': '/content/drive/MyDrive/ncert_ocr/Class 9 Science/Class 9 - 106.pdf', 'format': 'PDF 1.5', 'keywords': '', 'modDate': \"D:20240520133837+05'30'\", 'page': 1, 'producer': 'PDF Printer / www.bullzip.com / FG / Freeware Edition (max 10 users)', 'source': '/content/drive/MyDrive/ncert_ocr/Class 9 Science/Class 9 - 106.pdf', 'subject': '', 'title': 'D:\\\\Textbooks\\\\Rationalised Books\\\\0964-Science\\\\1 Source Files\\\\Chapter-6\\\\CHAP 6.pmd', 'total_pages': 12, 'trapped': ''}), Document(page_content='learnt\\n•\\nTissue is a group of cells similar in structure and function.\\n•\\nPlant tissues are of two main types – meristematic and\\npermanent.\\n•\\nMeristematic tissue is the dividing tissue present in the\\ngrowing regions of the plant.\\n•\\nPermanent tissues are derived from meristematic tissue once\\nthey lose the ability to divide. They are classified as simple\\nand complex tissues.\\n•', metadata={'author': 'admin', 'creationDate': \"D:20220822205120+05'30'\", 'creator': 'Bullzip PDF Printer (12.2.0.2905)', 'file_path': '/content/drive/MyDrive/ncert_ocr/Class 9 Science/Class 9 - 106.pdf', 'format': 'PDF 1.5', 'keywords': '', 'modDate': \"D:20240520133837+05'30'\", 'page': 9, 'producer': 'PDF Printer / www.bullzip.com / FG / Freeware Edition (max 10 users)', 'source': '/content/drive/MyDrive/ncert_ocr/Class 9 Science/Class 9 - 106.pdf', 'subject': '', 'title': 'D:\\\\Textbooks\\\\Rationalised Books\\\\0964-Science\\\\1 Source Files\\\\Chapter-6\\\\CHAP 6.pmd', 'total_pages': 12, 'trapped': ''}), Document(page_content='SCIENCE\\n62\\nCuticle\\nEpidermis\\nCollenchyma\\nParenchyma\\nPhloem\\nVascular bundle\\nXylem\\nFig. 6.3: Section of a stem\\nCells of meristematic tissue are very active,\\nthey have dense cytoplasm, thin cellulose walls\\nand prominent nuclei. They lack vacuoles. Can\\nwe think why they would lack vacuoles? (You\\nmight want to refer to the functions of vacuoles\\nin the chapter on cells.)\\n6.2.2 PERMANENT TISSUE', metadata={'author': 'admin', 'creationDate': \"D:20220822205120+05'30'\", 'creator': 'Bullzip PDF Printer (12.2.0.2905)', 'file_path': '/content/drive/MyDrive/ncert_ocr/Class 9 Science/Class 9 - 106.pdf', 'format': 'PDF 1.5', 'keywords': '', 'modDate': \"D:20240520133837+05'30'\", 'page': 2, 'producer': 'PDF Printer / www.bullzip.com / FG / Freeware Edition (max 10 users)', 'source': '/content/drive/MyDrive/ncert_ocr/Class 9 Science/Class 9 - 106.pdf', 'subject': '', 'title': 'D:\\\\Textbooks\\\\Rationalised Books\\\\0964-Science\\\\1 Source Files\\\\Chapter-6\\\\CHAP 6.pmd', 'total_pages': 12, 'trapped': ''}), Document(page_content='phloem to tissues which have less pressure. This allows the phloem to\\nmove material according to the plant’s needs. For example, in the spring,\\nsugar stored in root or stem tissue would be transported to the buds\\nwhich need energy to grow.\\nQ\\nU\\nE\\nS\\nT\\nI\\nO\\nN\\nS\\n?\\n1.\\nWhat are the components of the transport system in human beings?\\nWhat are the functions of these components?\\n2.', metadata={'author': 'admin', 'creationDate': 'D:20220817155729Z', 'creator': 'PageMaker 7.0', 'file_path': '/content/drive/MyDrive/ncert_ocr/Class 10 Science/Class 10 - 105.pdf', 'format': 'PDF 1.3', 'keywords': '', 'modDate': \"D:20240522144727+05'30'\", 'page': 17, 'producer': 'GPL Ghostscript 8.15', 'source': '/content/drive/MyDrive/ncert_ocr/Class 10 Science/Class 10 - 105.pdf', 'subject': '', 'title': 'CHAP 5.pmd', 'total_pages': 21, 'trapped': ''}), Document(page_content='divide rapidly to form a small group of cells or callus. The callus is transferred to\\nanother medium containing hormones for growth and differentiation. The plantlets\\nare then placed in the soil so that they can grow into mature plants. Using tissue\\nculture, many plants can be grown from one parent in disease-free conditions. This\\ntechnique is commonly used for ornamental plants.', metadata={'author': 'admin', 'creationDate': 'D:20220817145510Z', 'creator': 'PageMaker 7.0', 'file_path': '/content/drive/MyDrive/ncert_ocr/Class 10 Science/Class 10 - 107.pdf', 'format': 'PDF 1.6', 'keywords': '', 'modDate': \"D:20240522144732+05'30'\", 'page': 5, 'producer': 'GPL Ghostscript 8.15', 'source': '/content/drive/MyDrive/ncert_ocr/Class 10 Science/Class 10 - 107.pdf', 'subject': '', 'title': 'CHAP 7.pmd', 'total_pages': 15, 'trapped': ''}), Document(page_content='and prominent nuclei. They lack vacuoles. Can\\nwe think why they would lack vacuoles? (You\\nmight want to refer to the functions of vacuoles\\nin the chapter on cells.)\\n6.2.2 PERMANENT TISSUE\\nWhat happens to the cells formed by\\nmeristematic tissue? They take up a specific\\nrole and lose the ability to divide. As a result,\\nthey form a permanent tissue. This process', metadata={'author': 'admin', 'creationDate': \"D:20220822205120+05'30'\", 'creator': 'Bullzip PDF Printer (12.2.0.2905)', 'file_path': '/content/drive/MyDrive/ncert_ocr/Class 9 Science/Class 9 - 106.pdf', 'format': 'PDF 1.5', 'keywords': '', 'modDate': \"D:20240520133837+05'30'\", 'page': 2, 'producer': 'PDF Printer / www.bullzip.com / FG / Freeware Edition (max 10 users)', 'source': '/content/drive/MyDrive/ncert_ocr/Class 9 Science/Class 9 - 106.pdf', 'subject': '', 'title': 'D:\\\\Textbooks\\\\Rationalised Books\\\\0964-Science\\\\1 Source Files\\\\Chapter-6\\\\CHAP 6.pmd', 'total_pages': 12, 'trapped': ''}), Document(page_content='to carry out specialised functions. The creation of germ-cells to participate\\nin sexual reproduction is another specialised function, and we have seen\\nthat plants develop special cell and tissue types to create them. Human\\nbeings also develop special tissues for this purpose. However, while the\\nbody of the individual organism is growing to its adult size, the resources', metadata={'author': 'admin', 'creationDate': 'D:20220817145510Z', 'creator': 'PageMaker 7.0', 'file_path': '/content/drive/MyDrive/ncert_ocr/Class 10 Science/Class 10 - 107.pdf', 'format': 'PDF 1.6', 'keywords': '', 'modDate': \"D:20240522144732+05'30'\", 'page': 9, 'producer': 'GPL Ghostscript 8.15', 'source': '/content/drive/MyDrive/ncert_ocr/Class 10 Science/Class 10 - 107.pdf', 'subject': '', 'title': 'CHAP 7.pmd', 'total_pages': 15, 'trapped': ''}), Document(page_content='meristematic tissues are classified as apical,\\nlateral and intercalary (Fig. 6.2). New cells\\nproduced by meristem are initially like those\\nof meristem itself, but as they grow and\\nmature, their characteristics slowly change and\\nthey become differentiated as components of\\nother tissues.\\nFig. 6.1: Growth of roots in onion bulbs\\nActivity ______________ 6.1\\n•\\nTake two glass jars and fill them with', metadata={'author': 'admin', 'creationDate': \"D:20220822205120+05'30'\", 'creator': 'Bullzip PDF Printer (12.2.0.2905)', 'file_path': '/content/drive/MyDrive/ncert_ocr/Class 9 Science/Class 9 - 106.pdf', 'format': 'PDF 1.5', 'keywords': '', 'modDate': \"D:20240520133837+05'30'\", 'page': 1, 'producer': 'PDF Printer / www.bullzip.com / FG / Freeware Edition (max 10 users)', 'source': '/content/drive/MyDrive/ncert_ocr/Class 9 Science/Class 9 - 106.pdf', 'subject': '', 'title': 'D:\\\\Textbooks\\\\Rationalised Books\\\\0964-Science\\\\1 Source Files\\\\Chapter-6\\\\CHAP 6.pmd', 'total_pages': 12, 'trapped': ''}), Document(page_content='length of the stem and the root. The girth of\\nthe stem or root increases due to lateral\\nmeristem (cambium). Intercalary meristem\\nseen in some plants is located near the node.\\nFig. 6.2: Location of meristematic tissue in plant body\\nJar 1\\nJar 2\\nTISSUES\\n61\\nApical meristem\\nIntercalary meristem\\n2024-25', metadata={'author': 'admin', 'creationDate': \"D:20220822205120+05'30'\", 'creator': 'Bullzip PDF Printer (12.2.0.2905)', 'file_path': '/content/drive/MyDrive/ncert_ocr/Class 9 Science/Class 9 - 106.pdf', 'format': 'PDF 1.5', 'keywords': '', 'modDate': \"D:20240520133837+05'30'\", 'page': 1, 'producer': 'PDF Printer / www.bullzip.com / FG / Freeware Edition (max 10 users)', 'source': '/content/drive/MyDrive/ncert_ocr/Class 9 Science/Class 9 - 106.pdf', 'subject': '', 'title': 'D:\\\\Textbooks\\\\Rationalised Books\\\\0964-Science\\\\1 Source Files\\\\Chapter-6\\\\CHAP 6.pmd', 'total_pages': 12, 'trapped': ''}), Document(page_content='helps in growth and repair of tissues\\nin organisms.\\nSpecific cells of reproductive organs or tissues\\nin animals and plants divide to form gametes,\\nwhich after fertilisation give rise to offspring.\\nThey divide by a different process called\\nmeiosis which involves two consecutive\\ndivisions. When a cell divides by meiosis it\\nproduces four new cells instead of just two (Fig.', metadata={'author': 'admin', 'creationDate': \"D:20220825145045+05'30'\", 'creator': 'Bullzip PDF Printer (12.2.0.2905)', 'file_path': '/content/drive/MyDrive/ncert_ocr/Class 9 Science/Class 9 - 105.pdf', 'format': 'PDF 1.5', 'keywords': '', 'modDate': \"D:20240520133835+05'30'\", 'page': 9, 'producer': 'PDF Printer / www.bullzip.com / FG / Freeware Edition (max 10 users)', 'source': '/content/drive/MyDrive/ncert_ocr/Class 9 Science/Class 9 - 105.pdf', 'subject': '', 'title': 'D:\\\\Textbooks\\\\Rationalised Books\\\\0964-Science\\\\1 Source Files\\\\Chapter-5\\\\CHAP 5.pmd', 'total_pages': 11, 'trapped': ''}), Document(page_content='6.2.2 PERMANENT TISSUE\\nWhat happens to the cells formed by\\nmeristematic tissue? They take up a specific\\nrole and lose the ability to divide. As a result,\\nthey form a permanent tissue. This process\\nof taking up a permanent shape, size, and  a\\nfunction is called differentiation. Differentiation\\nleads to the development of various types of\\npermanent tissues.\\n3.\\nCan we think of reasons why there', metadata={'author': 'admin', 'creationDate': \"D:20220822205120+05'30'\", 'creator': 'Bullzip PDF Printer (12.2.0.2905)', 'file_path': '/content/drive/MyDrive/ncert_ocr/Class 9 Science/Class 9 - 106.pdf', 'format': 'PDF 1.5', 'keywords': '', 'modDate': \"D:20240520133837+05'30'\", 'page': 2, 'producer': 'PDF Printer / www.bullzip.com / FG / Freeware Edition (max 10 users)', 'source': '/content/drive/MyDrive/ncert_ocr/Class 9 Science/Class 9 - 106.pdf', 'subject': '', 'title': 'D:\\\\Textbooks\\\\Rationalised Books\\\\0964-Science\\\\1 Source Files\\\\Chapter-6\\\\CHAP 6.pmd', 'total_pages': 12, 'trapped': ''}), Document(page_content='Tissue culture\\nIn tissue culture, new plants are grown by removing tissue or separating cells from\\nthe growing tip of a plant. The cells are then placed in an artificial medium where they\\ndivide rapidly to form a small group of cells or callus. The callus is transferred to\\nanother medium containing hormones for growth and differentiation. The plantlets', metadata={'author': 'admin', 'creationDate': 'D:20220817145510Z', 'creator': 'PageMaker 7.0', 'file_path': '/content/drive/MyDrive/ncert_ocr/Class 10 Science/Class 10 - 107.pdf', 'format': 'PDF 1.6', 'keywords': '', 'modDate': \"D:20240522144732+05'30'\", 'page': 5, 'producer': 'GPL Ghostscript 8.15', 'source': '/content/drive/MyDrive/ncert_ocr/Class 10 Science/Class 10 - 107.pdf', 'subject': '', 'title': 'CHAP 7.pmd', 'total_pages': 15, 'trapped': ''}), Document(page_content='Science\\n106\\nThere is no growth involved in this movement. On the other hand, the\\ndirectional movement of a seedling is caused by growth. If it is prevented\\nfrom growing, it will not show any movement. So plants show two different\\ntypes of movement – one dependent on growth and the other independent\\nof growth.\\n6.2.1 Immediate Response to Stimulus', metadata={'author': 'admin', 'creationDate': 'D:20220817145403Z', 'creator': 'PageMaker 7.0', 'file_path': '/content/drive/MyDrive/ncert_ocr/Class 10 Science/Class 10 - 106.pdf', 'format': 'PDF 1.6', 'keywords': '', 'modDate': \"D:20240522144730+05'30'\", 'page': 6, 'producer': 'GPL Ghostscript 8.15', 'source': '/content/drive/MyDrive/ncert_ocr/Class 10 Science/Class 10 - 106.pdf', 'subject': '', 'title': 'CHAP 6.pmd', 'total_pages': 13, 'trapped': ''}), Document(page_content='on its outer surface. Can we think of a reason\\nfor this?\\nIs the outer layer of a branch of a tree\\ndifferent from the outer layer of a young stem?\\nAs plants grow older, the outer protective\\ntissue undergoes certain changes. A strip of\\nsecondary meristem located in the cortex forms\\nlayers of cells which constitute the cork. Cells\\nof cork are dead and compactly arranged', metadata={'author': 'admin', 'creationDate': \"D:20220822205120+05'30'\", 'creator': 'Bullzip PDF Printer (12.2.0.2905)', 'file_path': '/content/drive/MyDrive/ncert_ocr/Class 9 Science/Class 9 - 106.pdf', 'format': 'PDF 1.5', 'keywords': '', 'modDate': \"D:20240520133837+05'30'\", 'page': 4, 'producer': 'PDF Printer / www.bullzip.com / FG / Freeware Edition (max 10 users)', 'source': '/content/drive/MyDrive/ncert_ocr/Class 9 Science/Class 9 - 106.pdf', 'subject': '', 'title': 'D:\\\\Textbooks\\\\Rationalised Books\\\\0964-Science\\\\1 Source Files\\\\Chapter-6\\\\CHAP 6.pmd', 'total_pages': 12, 'trapped': ''}), Document(page_content='would be so many types of cells?\\n•\\nWe can also try to cut sections of plant\\nroots. We can even try cutting sections\\nof root and stem of different plants.\\n6.2.2 (i) SIMPLE PERMANENT TISSUE\\nA few layers of cells beneath the epidermis are\\ngenerally simple permanent tissue.\\nParenchyma is the most common simple\\npermanent tissue. It consists of relatively\\nunspecialised cells with thin cell walls. They', metadata={'author': 'admin', 'creationDate': \"D:20220822205120+05'30'\", 'creator': 'Bullzip PDF Printer (12.2.0.2905)', 'file_path': '/content/drive/MyDrive/ncert_ocr/Class 9 Science/Class 9 - 106.pdf', 'format': 'PDF 1.5', 'keywords': '', 'modDate': \"D:20240520133837+05'30'\", 'page': 2, 'producer': 'PDF Printer / www.bullzip.com / FG / Freeware Edition (max 10 users)', 'source': '/content/drive/MyDrive/ncert_ocr/Class 9 Science/Class 9 - 106.pdf', 'subject': '', 'title': 'D:\\\\Textbooks\\\\Rationalised Books\\\\0964-Science\\\\1 Source Files\\\\Chapter-6\\\\CHAP 6.pmd', 'total_pages': 12, 'trapped': ''})]\n"
          ]
        }
      ],
      "source": [
        "print(input_data)"
      ]
    },
    {
      "cell_type": "code",
      "execution_count": null,
      "metadata": {
        "colab": {
          "base_uri": "https://localhost:8080/"
        },
        "collapsed": true,
        "id": "wTiTSCkANGCa",
        "outputId": "00366945-c2b9-4afa-bacf-4ca4231a20ad"
      },
      "outputs": [
        {
          "data": {
            "text/plain": [
              "[SystemMessage(content=' Give a funny poem, given the user\\'s query and data given below\\n     [Document(page_content=\\'Lateral meristem\\\\nuestions\\\\n1.\\\\nWhat is a tissue?\\\\n2.\\\\nWhat is the utility of tissues in\\\\nmulti-cellular organisms?\\\\n6.2 Plant Tissues\\\\n6.2.1 MERISTEMATIC TISSUE\\\\n•\\\\nFrom the above observations, answer\\\\nthe following questions:\\\\n1. Which of the two onions has longer\\\\nroots? Why?\\\\n2. Do the roots continue growing\\\\neven after we have removed their\\\\ntips?\\\\n3. Why would the tips stop growing\\', metadata={\\'author\\': \\'admin\\', \\'creationDate\\': \"D:20220822205120+05\\'30\\'\", \\'creator\\': \\'Bullzip PDF Printer (12.2.0.2905)\\', \\'file_path\\': \\'/content/drive/MyDrive/ncert_ocr/Class 9 Science/Class 9 - 106.pdf\\', \\'format\\': \\'PDF 1.5\\', \\'keywords\\': \\'\\', \\'modDate\\': \"D:20240520133837+05\\'30\\'\", \\'page\\': 1, \\'producer\\': \\'PDF Printer / www.bullzip.com / FG / Freeware Edition (max 10 users)\\', \\'source\\': \\'/content/drive/MyDrive/ncert_ocr/Class 9 Science/Class 9 - 106.pdf\\', \\'subject\\': \\'\\', \\'title\\': \\'D:\\\\\\\\Textbooks\\\\\\\\Rationalised Books\\\\\\\\0964-Science\\\\\\\\1 Source Files\\\\\\\\Chapter-6\\\\\\\\CHAP 6.pmd\\', \\'total_pages\\': 12, \\'trapped\\': \\'\\'}), Document(page_content=\\'The growth of plants occurs only in certain\\\\nspecific regions. This is because the dividing\\\\ntissue, also known as meristematic tissue, is\\\\nlocated only at these points. Depending on\\\\nthe region where they are present,\\\\nmeristematic tissues are classified as apical,\\\\nlateral and intercalary (Fig. 6.2). New cells\\\\nproduced by meristem are initially like those\\\\nof meristem itself, but as they grow and\\', metadata={\\'author\\': \\'admin\\', \\'creationDate\\': \"D:20220822205120+05\\'30\\'\", \\'creator\\': \\'Bullzip PDF Printer (12.2.0.2905)\\', \\'file_path\\': \\'/content/drive/MyDrive/ncert_ocr/Class 9 Science/Class 9 - 106.pdf\\', \\'format\\': \\'PDF 1.5\\', \\'keywords\\': \\'\\', \\'modDate\\': \"D:20240520133837+05\\'30\\'\", \\'page\\': 1, \\'producer\\': \\'PDF Printer / www.bullzip.com / FG / Freeware Edition (max 10 users)\\', \\'source\\': \\'/content/drive/MyDrive/ncert_ocr/Class 9 Science/Class 9 - 106.pdf\\', \\'subject\\': \\'\\', \\'title\\': \\'D:\\\\\\\\Textbooks\\\\\\\\Rationalised Books\\\\\\\\0964-Science\\\\\\\\1 Source Files\\\\\\\\Chapter-6\\\\\\\\CHAP 6.pmd\\', \\'total_pages\\': 12, \\'trapped\\': \\'\\'}), Document(page_content=\\'learnt\\\\n•\\\\nTissue is a group of cells similar in structure and function.\\\\n•\\\\nPlant tissues are of two main types – meristematic and\\\\npermanent.\\\\n•\\\\nMeristematic tissue is the dividing tissue present in the\\\\ngrowing regions of the plant.\\\\n•\\\\nPermanent tissues are derived from meristematic tissue once\\\\nthey lose the ability to divide. They are classified as simple\\\\nand complex tissues.\\\\n•\\', metadata={\\'author\\': \\'admin\\', \\'creationDate\\': \"D:20220822205120+05\\'30\\'\", \\'creator\\': \\'Bullzip PDF Printer (12.2.0.2905)\\', \\'file_path\\': \\'/content/drive/MyDrive/ncert_ocr/Class 9 Science/Class 9 - 106.pdf\\', \\'format\\': \\'PDF 1.5\\', \\'keywords\\': \\'\\', \\'modDate\\': \"D:20240520133837+05\\'30\\'\", \\'page\\': 9, \\'producer\\': \\'PDF Printer / www.bullzip.com / FG / Freeware Edition (max 10 users)\\', \\'source\\': \\'/content/drive/MyDrive/ncert_ocr/Class 9 Science/Class 9 - 106.pdf\\', \\'subject\\': \\'\\', \\'title\\': \\'D:\\\\\\\\Textbooks\\\\\\\\Rationalised Books\\\\\\\\0964-Science\\\\\\\\1 Source Files\\\\\\\\Chapter-6\\\\\\\\CHAP 6.pmd\\', \\'total_pages\\': 12, \\'trapped\\': \\'\\'}), Document(page_content=\\'SCIENCE\\\\n62\\\\nCuticle\\\\nEpidermis\\\\nCollenchyma\\\\nParenchyma\\\\nPhloem\\\\nVascular bundle\\\\nXylem\\\\nFig. 6.3: Section of a stem\\\\nCells of meristematic tissue are very active,\\\\nthey have dense cytoplasm, thin cellulose walls\\\\nand prominent nuclei. They lack vacuoles. Can\\\\nwe think why they would lack vacuoles? (You\\\\nmight want to refer to the functions of vacuoles\\\\nin the chapter on cells.)\\\\n6.2.2 PERMANENT TISSUE\\', metadata={\\'author\\': \\'admin\\', \\'creationDate\\': \"D:20220822205120+05\\'30\\'\", \\'creator\\': \\'Bullzip PDF Printer (12.2.0.2905)\\', \\'file_path\\': \\'/content/drive/MyDrive/ncert_ocr/Class 9 Science/Class 9 - 106.pdf\\', \\'format\\': \\'PDF 1.5\\', \\'keywords\\': \\'\\', \\'modDate\\': \"D:20240520133837+05\\'30\\'\", \\'page\\': 2, \\'producer\\': \\'PDF Printer / www.bullzip.com / FG / Freeware Edition (max 10 users)\\', \\'source\\': \\'/content/drive/MyDrive/ncert_ocr/Class 9 Science/Class 9 - 106.pdf\\', \\'subject\\': \\'\\', \\'title\\': \\'D:\\\\\\\\Textbooks\\\\\\\\Rationalised Books\\\\\\\\0964-Science\\\\\\\\1 Source Files\\\\\\\\Chapter-6\\\\\\\\CHAP 6.pmd\\', \\'total_pages\\': 12, \\'trapped\\': \\'\\'}), Document(page_content=\\'phloem to tissues which have less pressure. This allows the phloem to\\\\nmove material according to the plant’s needs. For example, in the spring,\\\\nsugar stored in root or stem tissue would be transported to the buds\\\\nwhich need energy to grow.\\\\nQ\\\\nU\\\\nE\\\\nS\\\\nT\\\\nI\\\\nO\\\\nN\\\\nS\\\\n?\\\\n1.\\\\nWhat are the components of the transport system in human beings?\\\\nWhat are the functions of these components?\\\\n2.\\', metadata={\\'author\\': \\'admin\\', \\'creationDate\\': \\'D:20220817155729Z\\', \\'creator\\': \\'PageMaker 7.0\\', \\'file_path\\': \\'/content/drive/MyDrive/ncert_ocr/Class 10 Science/Class 10 - 105.pdf\\', \\'format\\': \\'PDF 1.3\\', \\'keywords\\': \\'\\', \\'modDate\\': \"D:20240522144727+05\\'30\\'\", \\'page\\': 17, \\'producer\\': \\'GPL Ghostscript 8.15\\', \\'source\\': \\'/content/drive/MyDrive/ncert_ocr/Class 10 Science/Class 10 - 105.pdf\\', \\'subject\\': \\'\\', \\'title\\': \\'CHAP 5.pmd\\', \\'total_pages\\': 21, \\'trapped\\': \\'\\'}), Document(page_content=\\'divide rapidly to form a small group of cells or callus. The callus is transferred to\\\\nanother medium containing hormones for growth and differentiation. The plantlets\\\\nare then placed in the soil so that they can grow into mature plants. Using tissue\\\\nculture, many plants can be grown from one parent in disease-free conditions. This\\\\ntechnique is commonly used for ornamental plants.\\', metadata={\\'author\\': \\'admin\\', \\'creationDate\\': \\'D:20220817145510Z\\', \\'creator\\': \\'PageMaker 7.0\\', \\'file_path\\': \\'/content/drive/MyDrive/ncert_ocr/Class 10 Science/Class 10 - 107.pdf\\', \\'format\\': \\'PDF 1.6\\', \\'keywords\\': \\'\\', \\'modDate\\': \"D:20240522144732+05\\'30\\'\", \\'page\\': 5, \\'producer\\': \\'GPL Ghostscript 8.15\\', \\'source\\': \\'/content/drive/MyDrive/ncert_ocr/Class 10 Science/Class 10 - 107.pdf\\', \\'subject\\': \\'\\', \\'title\\': \\'CHAP 7.pmd\\', \\'total_pages\\': 15, \\'trapped\\': \\'\\'}), Document(page_content=\\'and prominent nuclei. They lack vacuoles. Can\\\\nwe think why they would lack vacuoles? (You\\\\nmight want to refer to the functions of vacuoles\\\\nin the chapter on cells.)\\\\n6.2.2 PERMANENT TISSUE\\\\nWhat happens to the cells formed by\\\\nmeristematic tissue? They take up a specific\\\\nrole and lose the ability to divide. As a result,\\\\nthey form a permanent tissue. This process\\', metadata={\\'author\\': \\'admin\\', \\'creationDate\\': \"D:20220822205120+05\\'30\\'\", \\'creator\\': \\'Bullzip PDF Printer (12.2.0.2905)\\', \\'file_path\\': \\'/content/drive/MyDrive/ncert_ocr/Class 9 Science/Class 9 - 106.pdf\\', \\'format\\': \\'PDF 1.5\\', \\'keywords\\': \\'\\', \\'modDate\\': \"D:20240520133837+05\\'30\\'\", \\'page\\': 2, \\'producer\\': \\'PDF Printer / www.bullzip.com / FG / Freeware Edition (max 10 users)\\', \\'source\\': \\'/content/drive/MyDrive/ncert_ocr/Class 9 Science/Class 9 - 106.pdf\\', \\'subject\\': \\'\\', \\'title\\': \\'D:\\\\\\\\Textbooks\\\\\\\\Rationalised Books\\\\\\\\0964-Science\\\\\\\\1 Source Files\\\\\\\\Chapter-6\\\\\\\\CHAP 6.pmd\\', \\'total_pages\\': 12, \\'trapped\\': \\'\\'}), Document(page_content=\\'to carry out specialised functions. The creation of germ-cells to participate\\\\nin sexual reproduction is another specialised function, and we have seen\\\\nthat plants develop special cell and tissue types to create them. Human\\\\nbeings also develop special tissues for this purpose. However, while the\\\\nbody of the individual organism is growing to its adult size, the resources\\', metadata={\\'author\\': \\'admin\\', \\'creationDate\\': \\'D:20220817145510Z\\', \\'creator\\': \\'PageMaker 7.0\\', \\'file_path\\': \\'/content/drive/MyDrive/ncert_ocr/Class 10 Science/Class 10 - 107.pdf\\', \\'format\\': \\'PDF 1.6\\', \\'keywords\\': \\'\\', \\'modDate\\': \"D:20240522144732+05\\'30\\'\", \\'page\\': 9, \\'producer\\': \\'GPL Ghostscript 8.15\\', \\'source\\': \\'/content/drive/MyDrive/ncert_ocr/Class 10 Science/Class 10 - 107.pdf\\', \\'subject\\': \\'\\', \\'title\\': \\'CHAP 7.pmd\\', \\'total_pages\\': 15, \\'trapped\\': \\'\\'}), Document(page_content=\\'meristematic tissues are classified as apical,\\\\nlateral and intercalary (Fig. 6.2). New cells\\\\nproduced by meristem are initially like those\\\\nof meristem itself, but as they grow and\\\\nmature, their characteristics slowly change and\\\\nthey become differentiated as components of\\\\nother tissues.\\\\nFig. 6.1: Growth of roots in onion bulbs\\\\nActivity ______________ 6.1\\\\n•\\\\nTake two glass jars and fill them with\\', metadata={\\'author\\': \\'admin\\', \\'creationDate\\': \"D:20220822205120+05\\'30\\'\", \\'creator\\': \\'Bullzip PDF Printer (12.2.0.2905)\\', \\'file_path\\': \\'/content/drive/MyDrive/ncert_ocr/Class 9 Science/Class 9 - 106.pdf\\', \\'format\\': \\'PDF 1.5\\', \\'keywords\\': \\'\\', \\'modDate\\': \"D:20240520133837+05\\'30\\'\", \\'page\\': 1, \\'producer\\': \\'PDF Printer / www.bullzip.com / FG / Freeware Edition (max 10 users)\\', \\'source\\': \\'/content/drive/MyDrive/ncert_ocr/Class 9 Science/Class 9 - 106.pdf\\', \\'subject\\': \\'\\', \\'title\\': \\'D:\\\\\\\\Textbooks\\\\\\\\Rationalised Books\\\\\\\\0964-Science\\\\\\\\1 Source Files\\\\\\\\Chapter-6\\\\\\\\CHAP 6.pmd\\', \\'total_pages\\': 12, \\'trapped\\': \\'\\'}), Document(page_content=\\'length of the stem and the root. The girth of\\\\nthe stem or root increases due to lateral\\\\nmeristem (cambium). Intercalary meristem\\\\nseen in some plants is located near the node.\\\\nFig. 6.2: Location of meristematic tissue in plant body\\\\nJar 1\\\\nJar 2\\\\nTISSUES\\\\n61\\\\nApical meristem\\\\nIntercalary meristem\\\\n2024-25\\', metadata={\\'author\\': \\'admin\\', \\'creationDate\\': \"D:20220822205120+05\\'30\\'\", \\'creator\\': \\'Bullzip PDF Printer (12.2.0.2905)\\', \\'file_path\\': \\'/content/drive/MyDrive/ncert_ocr/Class 9 Science/Class 9 - 106.pdf\\', \\'format\\': \\'PDF 1.5\\', \\'keywords\\': \\'\\', \\'modDate\\': \"D:20240520133837+05\\'30\\'\", \\'page\\': 1, \\'producer\\': \\'PDF Printer / www.bullzip.com / FG / Freeware Edition (max 10 users)\\', \\'source\\': \\'/content/drive/MyDrive/ncert_ocr/Class 9 Science/Class 9 - 106.pdf\\', \\'subject\\': \\'\\', \\'title\\': \\'D:\\\\\\\\Textbooks\\\\\\\\Rationalised Books\\\\\\\\0964-Science\\\\\\\\1 Source Files\\\\\\\\Chapter-6\\\\\\\\CHAP 6.pmd\\', \\'total_pages\\': 12, \\'trapped\\': \\'\\'}), Document(page_content=\\'helps in growth and repair of tissues\\\\nin organisms.\\\\nSpecific cells of reproductive organs or tissues\\\\nin animals and plants divide to form gametes,\\\\nwhich after fertilisation give rise to offspring.\\\\nThey divide by a different process called\\\\nmeiosis which involves two consecutive\\\\ndivisions. When a cell divides by meiosis it\\\\nproduces four new cells instead of just two (Fig.\\', metadata={\\'author\\': \\'admin\\', \\'creationDate\\': \"D:20220825145045+05\\'30\\'\", \\'creator\\': \\'Bullzip PDF Printer (12.2.0.2905)\\', \\'file_path\\': \\'/content/drive/MyDrive/ncert_ocr/Class 9 Science/Class 9 - 105.pdf\\', \\'format\\': \\'PDF 1.5\\', \\'keywords\\': \\'\\', \\'modDate\\': \"D:20240520133835+05\\'30\\'\", \\'page\\': 9, \\'producer\\': \\'PDF Printer / www.bullzip.com / FG / Freeware Edition (max 10 users)\\', \\'source\\': \\'/content/drive/MyDrive/ncert_ocr/Class 9 Science/Class 9 - 105.pdf\\', \\'subject\\': \\'\\', \\'title\\': \\'D:\\\\\\\\Textbooks\\\\\\\\Rationalised Books\\\\\\\\0964-Science\\\\\\\\1 Source Files\\\\\\\\Chapter-5\\\\\\\\CHAP 5.pmd\\', \\'total_pages\\': 11, \\'trapped\\': \\'\\'}), Document(page_content=\\'6.2.2 PERMANENT TISSUE\\\\nWhat happens to the cells formed by\\\\nmeristematic tissue? They take up a specific\\\\nrole and lose the ability to divide. As a result,\\\\nthey form a permanent tissue. This process\\\\nof taking up a permanent shape, size, and  a\\\\nfunction is called differentiation. Differentiation\\\\nleads to the development of various types of\\\\npermanent tissues.\\\\n3.\\\\nCan we think of reasons why there\\', metadata={\\'author\\': \\'admin\\', \\'creationDate\\': \"D:20220822205120+05\\'30\\'\", \\'creator\\': \\'Bullzip PDF Printer (12.2.0.2905)\\', \\'file_path\\': \\'/content/drive/MyDrive/ncert_ocr/Class 9 Science/Class 9 - 106.pdf\\', \\'format\\': \\'PDF 1.5\\', \\'keywords\\': \\'\\', \\'modDate\\': \"D:20240520133837+05\\'30\\'\", \\'page\\': 2, \\'producer\\': \\'PDF Printer / www.bullzip.com / FG / Freeware Edition (max 10 users)\\', \\'source\\': \\'/content/drive/MyDrive/ncert_ocr/Class 9 Science/Class 9 - 106.pdf\\', \\'subject\\': \\'\\', \\'title\\': \\'D:\\\\\\\\Textbooks\\\\\\\\Rationalised Books\\\\\\\\0964-Science\\\\\\\\1 Source Files\\\\\\\\Chapter-6\\\\\\\\CHAP 6.pmd\\', \\'total_pages\\': 12, \\'trapped\\': \\'\\'}), Document(page_content=\\'Tissue culture\\\\nIn tissue culture, new plants are grown by removing tissue or separating cells from\\\\nthe growing tip of a plant. The cells are then placed in an artificial medium where they\\\\ndivide rapidly to form a small group of cells or callus. The callus is transferred to\\\\nanother medium containing hormones for growth and differentiation. The plantlets\\', metadata={\\'author\\': \\'admin\\', \\'creationDate\\': \\'D:20220817145510Z\\', \\'creator\\': \\'PageMaker 7.0\\', \\'file_path\\': \\'/content/drive/MyDrive/ncert_ocr/Class 10 Science/Class 10 - 107.pdf\\', \\'format\\': \\'PDF 1.6\\', \\'keywords\\': \\'\\', \\'modDate\\': \"D:20240522144732+05\\'30\\'\", \\'page\\': 5, \\'producer\\': \\'GPL Ghostscript 8.15\\', \\'source\\': \\'/content/drive/MyDrive/ncert_ocr/Class 10 Science/Class 10 - 107.pdf\\', \\'subject\\': \\'\\', \\'title\\': \\'CHAP 7.pmd\\', \\'total_pages\\': 15, \\'trapped\\': \\'\\'}), Document(page_content=\\'Science\\\\n106\\\\nThere is no growth involved in this movement. On the other hand, the\\\\ndirectional movement of a seedling is caused by growth. If it is prevented\\\\nfrom growing, it will not show any movement. So plants show two different\\\\ntypes of movement – one dependent on growth and the other independent\\\\nof growth.\\\\n6.2.1 Immediate Response to Stimulus\\', metadata={\\'author\\': \\'admin\\', \\'creationDate\\': \\'D:20220817145403Z\\', \\'creator\\': \\'PageMaker 7.0\\', \\'file_path\\': \\'/content/drive/MyDrive/ncert_ocr/Class 10 Science/Class 10 - 106.pdf\\', \\'format\\': \\'PDF 1.6\\', \\'keywords\\': \\'\\', \\'modDate\\': \"D:20240522144730+05\\'30\\'\", \\'page\\': 6, \\'producer\\': \\'GPL Ghostscript 8.15\\', \\'source\\': \\'/content/drive/MyDrive/ncert_ocr/Class 10 Science/Class 10 - 106.pdf\\', \\'subject\\': \\'\\', \\'title\\': \\'CHAP 6.pmd\\', \\'total_pages\\': 13, \\'trapped\\': \\'\\'}), Document(page_content=\\'on its outer surface. Can we think of a reason\\\\nfor this?\\\\nIs the outer layer of a branch of a tree\\\\ndifferent from the outer layer of a young stem?\\\\nAs plants grow older, the outer protective\\\\ntissue undergoes certain changes. A strip of\\\\nsecondary meristem located in the cortex forms\\\\nlayers of cells which constitute the cork. Cells\\\\nof cork are dead and compactly arranged\\', metadata={\\'author\\': \\'admin\\', \\'creationDate\\': \"D:20220822205120+05\\'30\\'\", \\'creator\\': \\'Bullzip PDF Printer (12.2.0.2905)\\', \\'file_path\\': \\'/content/drive/MyDrive/ncert_ocr/Class 9 Science/Class 9 - 106.pdf\\', \\'format\\': \\'PDF 1.5\\', \\'keywords\\': \\'\\', \\'modDate\\': \"D:20240520133837+05\\'30\\'\", \\'page\\': 4, \\'producer\\': \\'PDF Printer / www.bullzip.com / FG / Freeware Edition (max 10 users)\\', \\'source\\': \\'/content/drive/MyDrive/ncert_ocr/Class 9 Science/Class 9 - 106.pdf\\', \\'subject\\': \\'\\', \\'title\\': \\'D:\\\\\\\\Textbooks\\\\\\\\Rationalised Books\\\\\\\\0964-Science\\\\\\\\1 Source Files\\\\\\\\Chapter-6\\\\\\\\CHAP 6.pmd\\', \\'total_pages\\': 12, \\'trapped\\': \\'\\'}), Document(page_content=\\'would be so many types of cells?\\\\n•\\\\nWe can also try to cut sections of plant\\\\nroots. We can even try cutting sections\\\\nof root and stem of different plants.\\\\n6.2.2 (i) SIMPLE PERMANENT TISSUE\\\\nA few layers of cells beneath the epidermis are\\\\ngenerally simple permanent tissue.\\\\nParenchyma is the most common simple\\\\npermanent tissue. It consists of relatively\\\\nunspecialised cells with thin cell walls. They\\', metadata={\\'author\\': \\'admin\\', \\'creationDate\\': \"D:20220822205120+05\\'30\\'\", \\'creator\\': \\'Bullzip PDF Printer (12.2.0.2905)\\', \\'file_path\\': \\'/content/drive/MyDrive/ncert_ocr/Class 9 Science/Class 9 - 106.pdf\\', \\'format\\': \\'PDF 1.5\\', \\'keywords\\': \\'\\', \\'modDate\\': \"D:20240520133837+05\\'30\\'\", \\'page\\': 2, \\'producer\\': \\'PDF Printer / www.bullzip.com / FG / Freeware Edition (max 10 users)\\', \\'source\\': \\'/content/drive/MyDrive/ncert_ocr/Class 9 Science/Class 9 - 106.pdf\\', \\'subject\\': \\'\\', \\'title\\': \\'D:\\\\\\\\Textbooks\\\\\\\\Rationalised Books\\\\\\\\0964-Science\\\\\\\\1 Source Files\\\\\\\\Chapter-6\\\\\\\\CHAP 6.pmd\\', \\'total_pages\\': 12, \\'trapped\\': \\'\\'})]  '),\n",
              " HumanMessage(content='meristematic tissue')]"
            ]
          },
          "execution_count": 52,
          "metadata": {},
          "output_type": "execute_result"
        }
      ],
      "source": [
        "chat_prompt_with_values = chat_prompt.format_prompt(query=input_query, data=input_data)\n",
        "messages = chat_prompt_with_values.to_messages()\n",
        "messages"
      ]
    },
    {
      "cell_type": "code",
      "execution_count": null,
      "metadata": {
        "id": "jiJnE3jMPhgs"
      },
      "outputs": [],
      "source": [
        "llm = ChatOpenAI(temperature=0, model='gpt-4o')\n",
        "\n",
        "compressor = LLMChainExtractor.from_llm(llm)\n",
        "compression_retriever = ContextualCompressionRetriever(base_compressor=compressor,\n",
        "                                                       base_retriever=vectordb2.as_retriever(search_type=\"mmr\",search_kwargs={\"k\":8}))"
      ]
    },
    {
      "cell_type": "code",
      "execution_count": null,
      "metadata": {
        "id": "uRo4ZPzkPhgt"
      },
      "outputs": [],
      "source": [
        "input_data = compression_retriever.get_relevant_documents(input_query)"
      ]
    },
    {
      "cell_type": "code",
      "execution_count": null,
      "metadata": {
        "colab": {
          "base_uri": "https://localhost:8080/"
        },
        "collapsed": true,
        "id": "hvG9xy8oQSwP",
        "outputId": "57decfee-911b-4359-cd4e-e36a7421ca53"
      },
      "outputs": [
        {
          "data": {
            "text/plain": [
              "[SystemMessage(content=' Give a funny poem, given the user\\'s query and data given below\\n     [Document(page_content=\\'meristematic tissues are classified as apical,\\\\nlateral and intercalary (Fig. 6.2). New cells\\\\nproduced by meristem are initially like those\\\\nof meristem itself, but as they grow and\\\\nmature, their characteristics slowly change and\\\\nthey become differentiated as components of\\\\nother tissues.\\', metadata={\\'author\\': \\'admin\\', \\'creationDate\\': \"D:20220822205120+05\\'30\\'\", \\'creator\\': \\'Bullzip PDF Printer (12.2.0.2905)\\', \\'file_path\\': \\'/content/drive/MyDrive/ncert_ocr/Class 9 Science/Class 9 - 106.pdf\\', \\'format\\': \\'PDF 1.5\\', \\'keywords\\': \\'\\', \\'modDate\\': \"D:20240520133837+05\\'30\\'\", \\'page\\': 1, \\'producer\\': \\'PDF Printer / www.bullzip.com / FG / Freeware Edition (max 10 users)\\', \\'source\\': \\'/content/drive/MyDrive/ncert_ocr/Class 9 Science/Class 9 - 106.pdf\\', \\'subject\\': \\'\\', \\'title\\': \\'D:\\\\\\\\Textbooks\\\\\\\\Rationalised Books\\\\\\\\0964-Science\\\\\\\\1 Source Files\\\\\\\\Chapter-6\\\\\\\\CHAP 6.pmd\\', \\'total_pages\\': 12, \\'trapped\\': \\'\\'}), Document(page_content=\\'Meristematic tissue is the dividing tissue present in the\\\\ngrowing regions of the plant.\\', metadata={\\'author\\': \\'admin\\', \\'creationDate\\': \"D:20220822205120+05\\'30\\'\", \\'creator\\': \\'Bullzip PDF Printer (12.2.0.2905)\\', \\'file_path\\': \\'/content/drive/MyDrive/ncert_ocr/Class 9 Science/Class 9 - 106.pdf\\', \\'format\\': \\'PDF 1.5\\', \\'keywords\\': \\'\\', \\'modDate\\': \"D:20240520133837+05\\'30\\'\", \\'page\\': 9, \\'producer\\': \\'PDF Printer / www.bullzip.com / FG / Freeware Edition (max 10 users)\\', \\'source\\': \\'/content/drive/MyDrive/ncert_ocr/Class 9 Science/Class 9 - 106.pdf\\', \\'subject\\': \\'\\', \\'title\\': \\'D:\\\\\\\\Textbooks\\\\\\\\Rationalised Books\\\\\\\\0964-Science\\\\\\\\1 Source Files\\\\\\\\Chapter-6\\\\\\\\CHAP 6.pmd\\', \\'total_pages\\': 12, \\'trapped\\': \\'\\'}), Document(page_content=\\'6.2.1 MERISTEMATIC TISSUE\\', metadata={\\'author\\': \\'admin\\', \\'creationDate\\': \"D:20220822205120+05\\'30\\'\", \\'creator\\': \\'Bullzip PDF Printer (12.2.0.2905)\\', \\'file_path\\': \\'/content/drive/MyDrive/ncert_ocr/Class 9 Science/Class 9 - 106.pdf\\', \\'format\\': \\'PDF 1.5\\', \\'keywords\\': \\'\\', \\'modDate\\': \"D:20240520133837+05\\'30\\'\", \\'page\\': 1, \\'producer\\': \\'PDF Printer / www.bullzip.com / FG / Freeware Edition (max 10 users)\\', \\'source\\': \\'/content/drive/MyDrive/ncert_ocr/Class 9 Science/Class 9 - 106.pdf\\', \\'subject\\': \\'\\', \\'title\\': \\'D:\\\\\\\\Textbooks\\\\\\\\Rationalised Books\\\\\\\\0964-Science\\\\\\\\1 Source Files\\\\\\\\Chapter-6\\\\\\\\CHAP 6.pmd\\', \\'total_pages\\': 12, \\'trapped\\': \\'\\'}), Document(page_content=\\'What happens to the cells formed by\\\\nmeristematic tissue? They take up a specific\\\\nrole and lose the ability to divide. As a result,\\\\nthey form a permanent tissue.\\', metadata={\\'author\\': \\'admin\\', \\'creationDate\\': \"D:20220822205120+05\\'30\\'\", \\'creator\\': \\'Bullzip PDF Printer (12.2.0.2905)\\', \\'file_path\\': \\'/content/drive/MyDrive/ncert_ocr/Class 9 Science/Class 9 - 106.pdf\\', \\'format\\': \\'PDF 1.5\\', \\'keywords\\': \\'\\', \\'modDate\\': \"D:20240520133837+05\\'30\\'\", \\'page\\': 2, \\'producer\\': \\'PDF Printer / www.bullzip.com / FG / Freeware Edition (max 10 users)\\', \\'source\\': \\'/content/drive/MyDrive/ncert_ocr/Class 9 Science/Class 9 - 106.pdf\\', \\'subject\\': \\'\\', \\'title\\': \\'D:\\\\\\\\Textbooks\\\\\\\\Rationalised Books\\\\\\\\0964-Science\\\\\\\\1 Source Files\\\\\\\\Chapter-6\\\\\\\\CHAP 6.pmd\\', \\'total_pages\\': 12, \\'trapped\\': \\'\\'}), Document(page_content=\\'A strip of secondary meristem located in the cortex forms layers of cells which constitute the cork.\\', metadata={\\'author\\': \\'admin\\', \\'creationDate\\': \"D:20220822205120+05\\'30\\'\", \\'creator\\': \\'Bullzip PDF Printer (12.2.0.2905)\\', \\'file_path\\': \\'/content/drive/MyDrive/ncert_ocr/Class 9 Science/Class 9 - 106.pdf\\', \\'format\\': \\'PDF 1.5\\', \\'keywords\\': \\'\\', \\'modDate\\': \"D:20240520133837+05\\'30\\'\", \\'page\\': 4, \\'producer\\': \\'PDF Printer / www.bullzip.com / FG / Freeware Edition (max 10 users)\\', \\'source\\': \\'/content/drive/MyDrive/ncert_ocr/Class 9 Science/Class 9 - 106.pdf\\', \\'subject\\': \\'\\', \\'title\\': \\'D:\\\\\\\\Textbooks\\\\\\\\Rationalised Books\\\\\\\\0964-Science\\\\\\\\1 Source Files\\\\\\\\Chapter-6\\\\\\\\CHAP 6.pmd\\', \\'total_pages\\': 12, \\'trapped\\': \\'\\'})]  '),\n",
              " HumanMessage(content='meristematic tissue')]"
            ]
          },
          "execution_count": 55,
          "metadata": {},
          "output_type": "execute_result"
        }
      ],
      "source": [
        "chat_prompt_with_values = chat_prompt.format_prompt(query=input_query, data=input_data)\n",
        "messages = chat_prompt_with_values.to_messages()\n",
        "messages"
      ]
    },
    {
      "cell_type": "code",
      "execution_count": null,
      "metadata": {
        "colab": {
          "base_uri": "https://localhost:8080/"
        },
        "collapsed": true,
        "id": "x8ODnusgOrI5",
        "outputId": "1d16602f-6699-4a27-915c-455737ea1e5b"
      },
      "outputs": [
        {
          "data": {
            "text/plain": [
              "AIMessage(content=\"In the world of plants, there's a tissue,\\nMeristematic, it's got a special issue.\\nIt divides and grows, in regions aplenty,\\nApical, lateral, intercalary, count them, that's twenty!\\n\\nNew cells it produces, like a magic trick,\\nBut as they mature, their roles they pick.\\nFrom meristem they come, but not they stay,\\nDifferentiated they become, in a fascinating way.\\n\\nThey take up roles, and then retire,\\nLose the ability to divide, no more to aspire.\\nThey form a permanent tissue, oh what a fate,\\nIn the grand scheme of life, they participate.\\n\\nIn the cortex, a strip of secondary kind,\\nForms layers of cells, a cork you'll find.\\nSo here's to meristematic, the tissue so fine,\\nIn the story of growth, it's the main headline!\", response_metadata={'token_usage': {'completion_tokens': 177, 'prompt_tokens': 1280, 'total_tokens': 1457}, 'model_name': 'gpt-4', 'system_fingerprint': None, 'finish_reason': 'stop', 'logprobs': None}, id='run-20a54f16-5087-41eb-822e-bc3854143e2f-0')"
            ]
          },
          "execution_count": 56,
          "metadata": {},
          "output_type": "execute_result"
        }
      ],
      "source": [
        "response = llm(messages)\n",
        "response"
      ]
    },
    {
      "cell_type": "code",
      "execution_count": null,
      "metadata": {
        "colab": {
          "base_uri": "https://localhost:8080/"
        },
        "collapsed": true,
        "id": "4lB0qtWCO12J",
        "outputId": "243ca07a-9e53-4115-94ae-694fd8a6d695"
      },
      "outputs": [
        {
          "name": "stdout",
          "output_type": "stream",
          "text": [
            "In the world of plants, there's a tissue,\n",
            "Meristematic, it's got a special issue.\n",
            "It divides and grows, in regions aplenty,\n",
            "Apical, lateral, intercalary, count them, that's twenty!\n",
            "\n",
            "New cells it produces, like a magic trick,\n",
            "But as they mature, their roles they pick.\n",
            "From meristem they come, but not they stay,\n",
            "Differentiated they become, in a fascinating way.\n",
            "\n",
            "They take up roles, and then retire,\n",
            "Lose the ability to divide, no more to aspire.\n",
            "They form a permanent tissue, oh what a fate,\n",
            "In the grand scheme of life, they participate.\n",
            "\n",
            "In the cortex, a strip of secondary kind,\n",
            "Forms layers of cells, a cork you'll find.\n",
            "So here's to meristematic, the tissue so fine,\n",
            "In the story of growth, it's the main headline!\n"
          ]
        }
      ],
      "source": [
        "print(response.content)"
      ]
    },
    {
      "cell_type": "code",
      "execution_count": null,
      "metadata": {
        "colab": {
          "base_uri": "https://localhost:8080/"
        },
        "id": "RRNBknG_gOFP",
        "outputId": "665ac75a-1cad-4b64-df94-5031ca32ff79"
      },
      "outputs": [
        {
          "name": "stdout",
          "output_type": "stream",
          "text": [
            "In the plant, there's a tissue so fine,\n",
            "Meristematic, it's the dividing line.\n",
            "Apical, lateral, and intercalary too,\n",
            "These tissues know just what to do.\n",
            "\n",
            "New cells they create, fresh and green,\n",
            "Like a meristem, they start unseen.\n",
            "But as they grow, their fate is clear,\n",
            "Differentiation whispers in their ear.\n",
            "\n",
            "They lose the power to divide and clone,\n",
            "Becoming part of other tissues, they're not alone.\n",
            "So next time you see a plant so grand,\n",
            "Remember the meristematic tissue, oh so grand!"
          ]
        }
      ],
      "source": [
        "chat = ChatOpenAI(openai_api_key=openai_api_key, streaming=True, callback_manager=CallbackManager([StreamingStdOutCallbackHandler()]), verbose=True, temperature=0)\n",
        "resp = chat(chat_prompt_with_values.to_messages())"
      ]
    },
    {
      "cell_type": "markdown",
      "metadata": {
        "id": "W-V0f8TzjfkJ"
      },
      "source": [
        "##### Google Search Feature"
      ]
    },
    {
      "cell_type": "code",
      "execution_count": null,
      "metadata": {
        "colab": {
          "base_uri": "https://localhost:8080/"
        },
        "id": "fU2tSusUkzua",
        "outputId": "d7571585-4bca-4837-e932-0a504169cfb2"
      },
      "outputs": [
        {
          "name": "stdout",
          "output_type": "stream",
          "text": [
            "Collecting google-search-results\n",
            "  Downloading google_search_results-2.4.2.tar.gz (18 kB)\n",
            "  Preparing metadata (setup.py) ... \u001b[?25l\u001b[?25hdone\n",
            "Requirement already satisfied: requests in /usr/local/lib/python3.10/dist-packages (from google-search-results) (2.31.0)\n",
            "Requirement already satisfied: charset-normalizer<4,>=2 in /usr/local/lib/python3.10/dist-packages (from requests->google-search-results) (3.3.2)\n",
            "Requirement already satisfied: idna<4,>=2.5 in /usr/local/lib/python3.10/dist-packages (from requests->google-search-results) (3.7)\n",
            "Requirement already satisfied: urllib3<3,>=1.21.1 in /usr/local/lib/python3.10/dist-packages (from requests->google-search-results) (2.0.7)\n",
            "Requirement already satisfied: certifi>=2017.4.17 in /usr/local/lib/python3.10/dist-packages (from requests->google-search-results) (2024.6.2)\n",
            "Building wheels for collected packages: google-search-results\n",
            "  Building wheel for google-search-results (setup.py) ... \u001b[?25l\u001b[?25hdone\n",
            "  Created wheel for google-search-results: filename=google_search_results-2.4.2-py3-none-any.whl size=32004 sha256=27f338300084525bd7e7823adc9d3368577f82281aa5379d01b3366a3b2b2b5a\n",
            "  Stored in directory: /root/.cache/pip/wheels/d3/b2/c3/03302d12bb44a2cdff3c9371f31b72c0c4e84b8d2285eeac53\n",
            "Successfully built google-search-results\n",
            "Installing collected packages: google-search-results\n",
            "Successfully installed google-search-results-2.4.2\n"
          ]
        }
      ],
      "source": [
        "!pip install google-search-results"
      ]
    },
    {
      "cell_type": "code",
      "execution_count": null,
      "metadata": {
        "id": "5BldgunIje_e"
      },
      "outputs": [],
      "source": [
        "from langchain.agents import load_tools\n",
        "from langchain.agents import initialize_agent\n",
        "from langchain.llms import OpenAI\n",
        "from google.colab import userdata\n",
        "os.environ['SERPAPI_API_KEY']=userdata.get('SERP_API_KEY')"
      ]
    },
    {
      "cell_type": "code",
      "execution_count": null,
      "metadata": {
        "id": "LkaijUpTgRpl"
      },
      "outputs": [],
      "source": [
        "llm = OpenAI(temperature=0)"
      ]
    },
    {
      "cell_type": "code",
      "execution_count": null,
      "metadata": {
        "id": "xNJXrkOokPj9"
      },
      "outputs": [],
      "source": [
        "tool_names = [\"serpapi\"]\n",
        "tools = load_tools(tool_names)"
      ]
    },
    {
      "cell_type": "code",
      "execution_count": null,
      "metadata": {
        "colab": {
          "base_uri": "https://localhost:8080/"
        },
        "id": "d9ftx7N8kQ-j",
        "outputId": "e6ff0f6a-3c37-4cc5-edf5-e2e0db9b7205"
      },
      "outputs": [
        {
          "name": "stderr",
          "output_type": "stream",
          "text": [
            "/usr/local/lib/python3.10/dist-packages/langchain_core/_api/deprecation.py:119: LangChainDeprecationWarning: The function `initialize_agent` was deprecated in LangChain 0.1.0 and will be removed in 0.3.0. Use Use new agent constructor methods like create_react_agent, create_json_agent, create_structured_chat_agent, etc. instead.\n",
            "  warn_deprecated(\n"
          ]
        }
      ],
      "source": [
        "agent = initialize_agent(tools, llm, agent=\"zero-shot-react-description\", verbose=True)"
      ]
    },
    {
      "cell_type": "code",
      "execution_count": null,
      "metadata": {
        "colab": {
          "base_uri": "https://localhost:8080/"
        },
        "id": "u-DJQyTDle46",
        "outputId": "2a23cbb5-4f0f-4fc8-e12e-72bf748c65bc"
      },
      "outputs": [
        {
          "name": "stdout",
          "output_type": "stream",
          "text": [
            "\n",
            "\n",
            "\u001b[1m> Entering new AgentExecutor chain...\u001b[0m\n",
            "\u001b[32;1m\u001b[1;3m Meristematic tissue is a type of plant tissue that is responsible for growth and development.\n",
            "Action: Search\n",
            "Action Input: \"meristematic tissue\"\u001b[0m\n",
            "Observation: \u001b[36;1m\u001b[1;3mMeristematic tissues are cells or group of cells that have the ability to divide. These tissues in a plant consist of small, densely packed cells that can keep dividing to form new cells.\u001b[0m\n",
            "Thought:\u001b[32;1m\u001b[1;3m I now know the final answer\n",
            "Final Answer: Meristematic tissue is a type of plant tissue that is responsible for growth and development by continuously dividing and producing new cells.\u001b[0m\n",
            "\n",
            "\u001b[1m> Finished chain.\u001b[0m\n"
          ]
        },
        {
          "data": {
            "text/plain": [
              "str"
            ]
          },
          "execution_count": 73,
          "metadata": {},
          "output_type": "execute_result"
        }
      ],
      "source": [
        "agent.run(input_query)"
      ]
    },
    {
      "cell_type": "markdown",
      "metadata": {
        "id": "xfAyHDL2l4fx"
      },
      "source": [
        "##### Wolfram Alpha Integration"
      ]
    },
    {
      "cell_type": "code",
      "execution_count": null,
      "metadata": {
        "id": "v1SWl2uFmgfC"
      },
      "outputs": [],
      "source": [
        "tool_names = [\"wolfram-alpha\"]\n",
        "tools = load_tools(tool_names)"
      ]
    },
    {
      "cell_type": "markdown",
      "metadata": {
        "id": "WXHEcRGYqhHq"
      },
      "source": [
        "#### Ensemble Retrieval"
      ]
    },
    {
      "cell_type": "code",
      "execution_count": null,
      "metadata": {
        "colab": {
          "base_uri": "https://localhost:8080/"
        },
        "id": "MEilOX9vrXn9",
        "outputId": "06e32b51-c512-49e9-ecfc-8cf3d14b48e7"
      },
      "outputs": [
        {
          "name": "stdout",
          "output_type": "stream",
          "text": [
            "Collecting rank_bm25\n",
            "  Downloading rank_bm25-0.2.2-py3-none-any.whl (8.6 kB)\n",
            "Requirement already satisfied: numpy in /usr/local/lib/python3.10/dist-packages (from rank_bm25) (1.25.2)\n",
            "Installing collected packages: rank_bm25\n",
            "Successfully installed rank_bm25-0.2.2\n"
          ]
        }
      ],
      "source": [
        "!pip install rank_bm25"
      ]
    },
    {
      "cell_type": "code",
      "execution_count": null,
      "metadata": {
        "id": "KVl1kwLwqkq4"
      },
      "outputs": [],
      "source": [
        "from langchain.retrievers import BM25Retriever, EnsembleRetriever"
      ]
    },
    {
      "cell_type": "code",
      "execution_count": null,
      "metadata": {
        "id": "qrxsixlzqql0"
      },
      "outputs": [],
      "source": [
        "vector_db_bm25 = BM25Retriever.from_documents(documents = split_documents, embedding = embeddings)\n",
        "vector_db_bm25.k = 4"
      ]
    },
    {
      "cell_type": "code",
      "execution_count": null,
      "metadata": {
        "id": "-iU3Xgi5rRse"
      },
      "outputs": [],
      "source": [
        "vectordb_chroma = Chroma.from_documents(documents = split_documents, embedding = embeddings)\n",
        "vectordb_chroma = vectordb_chroma.as_retriever(search_kwargs={\"k\": 4})"
      ]
    },
    {
      "cell_type": "code",
      "execution_count": null,
      "metadata": {
        "id": "K3nEnqgwsTr5"
      },
      "outputs": [],
      "source": [
        "ensemble_retriever = EnsembleRetriever(retrievers=[vector_db_bm25, vectordb_chroma], weights=[0.5, 0.5], verbose = True)"
      ]
    },
    {
      "cell_type": "code",
      "execution_count": null,
      "metadata": {
        "colab": {
          "base_uri": "https://localhost:8080/"
        },
        "id": "p1G_r7wdsEKp",
        "outputId": "78248f01-a896-4ae2-dd7a-65e0709bb1cc"
      },
      "outputs": [
        {
          "data": {
            "text/plain": [
              "[Document(page_content='using a lens (Fig. 4.26). Do you see some\\nsmall bead like structures inside the\\novary? They are called ovules. Draw and\\nlabel the inner parts of the ovary in your\\nnotebook.\\nTry to find out the names of as many\\nflowers as you can by asking the\\ngardener or any other person.\\nRemember, not to pluck more flowers\\nthan you need. Based on what you have\\nfilled in Table 4.3, answer the following\\nquestions.', metadata={'source': '/content/drive/MyDrive/ncert_ocr/Class 6 Science/Class 6 - 104.pdf', 'file_path': '/content/drive/MyDrive/ncert_ocr/Class 6 Science/Class 6 - 104.pdf', 'page': 10, 'total_pages': 14, 'format': 'PDF 1.6', 'title': 'Chapter 4.pmd', 'author': 'admin', 'subject': '', 'keywords': '', 'creator': 'PageMaker 7.0', 'producer': 'Acrobat Distiller 10.1.16 (Windows)', 'creationDate': \"D:20220912091940+05'30'\", 'modDate': \"D:20230301123816+05'30'\", 'trapped': ''}),\n",
              " Document(page_content='Science\\n124\\nWhen a girl is born, the ovaries already contain thousands of\\nimmature eggs. On reaching puberty, some of these start maturing. One\\negg is produced every month by one of the ovaries. The egg is carried\\nfrom the ovary to the womb through a thin oviduct or fallopian tube.\\nThe two oviducts unite into an elastic bag-like structure known as the', metadata={'author': 'admin', 'creationDate': 'D:20220817145510Z', 'creator': 'PageMaker 7.0', 'file_path': '/content/drive/MyDrive/ncert_ocr/Class 10 Science/Class 10 - 107.pdf', 'format': 'PDF 1.6', 'keywords': '', 'modDate': \"D:20240522144732+05'30'\", 'page': 11, 'producer': 'GPL Ghostscript 8.15', 'source': '/content/drive/MyDrive/ncert_ocr/Class 10 Science/Class 10 - 107.pdf', 'subject': '', 'title': 'CHAP 7.pmd', 'total_pages': 15, 'trapped': ''}),\n",
              " Document(page_content='guava, pomegranate, papaya, banana, lemon, sugarcane, potato, groundnut\\n11. Name the part of plant which produces food. Name the process.\\n12. In which part of a flower, you will find the ovary?\\n13. Name two plants in which one has joined sepals and the other has separate\\nsepals.\\nRationalised 2023-24', metadata={'source': '/content/drive/MyDrive/ncert_ocr/Class 6 Science/Class 6 - 104.pdf', 'file_path': '/content/drive/MyDrive/ncert_ocr/Class 6 Science/Class 6 - 104.pdf', 'page': 12, 'total_pages': 14, 'format': 'PDF 1.6', 'title': 'Chapter 4.pmd', 'author': 'admin', 'subject': '', 'keywords': '', 'creator': 'PageMaker 7.0', 'producer': 'Acrobat Distiller 10.1.16 (Windows)', 'creationDate': \"D:20220912091940+05'30'\", 'modDate': \"D:20230301123816+05'30'\", 'trapped': ''}),\n",
              " Document(page_content='41\\nGETTING TO KNOW PLANTS\\nCut the ovary in two different ways\\nas shown in Fig. 4.25. To prevent them\\nfrom drying, put a drop of water on\\neach of the two pieces of the ovary, you\\nhave cut.\\nObserve the inner parts of the ovary\\nusing a lens (Fig. 4.26). Do you see some\\nsmall bead like structures inside the\\novary? They are called ovules. Draw and\\nlabel the inner parts of the ovary in your\\nnotebook.', metadata={'source': '/content/drive/MyDrive/ncert_ocr/Class 6 Science/Class 6 - 104.pdf', 'file_path': '/content/drive/MyDrive/ncert_ocr/Class 6 Science/Class 6 - 104.pdf', 'page': 10, 'total_pages': 14, 'format': 'PDF 1.6', 'title': 'Chapter 4.pmd', 'author': 'admin', 'subject': '', 'keywords': '', 'creator': 'PageMaker 7.0', 'producer': 'Acrobat Distiller 10.1.16 (Windows)', 'creationDate': \"D:20220912091940+05'30'\", 'modDate': \"D:20230301123816+05'30'\", 'trapped': ''}),\n",
              " Document(page_content='of the element are to be written as:\\nMass Number\\nQ\\nSymbol of\\nelement\\nAtomic Number\\nFor example, nitrogen is written as 14\\n7 N .\\nuestions\\n1.\\nIf number of electrons in an atom\\nis 8 and number of protons is also\\n8, then (i) what is the atomic\\nnumber of the atom? and (ii) what\\nis the charge on the atom?\\n2.\\nWith the help of Table 4.1, find\\nout the mass number of oxygen\\nand sulphur atom.\\n4.6 Isotopes', metadata={'source': '/content/drive/MyDrive/ncert_ocr/Class 9 Science/Class 9 - 104.pdf', 'file_path': '/content/drive/MyDrive/ncert_ocr/Class 9 Science/Class 9 - 104.pdf', 'page': 6, 'total_pages': 11, 'format': 'PDF 1.6', 'title': 'D:\\\\Textbooks\\\\Rationalised Books\\\\0964-Science\\\\1 Source Files\\\\Chapter-4\\\\CHAP 4.pmd', 'author': 'admin', 'subject': '', 'keywords': '', 'creator': 'Bullzip PDF Printer (12.2.0.2905)', 'producer': 'PDF Printer / www.bullzip.com / FG / Freeware Edition (max 10 users)', 'creationDate': \"D:20220825144757+05'30'\", 'modDate': \"D:20240520133831+05'30'\", 'trapped': ''})]"
            ]
          },
          "execution_count": 85,
          "metadata": {},
          "output_type": "execute_result"
        }
      ],
      "source": [
        "ensemble_docs = ensemble_retriever.get_relevant_documents(\"what is the ovary?\")\n",
        "ensemble_docs"
      ]
    },
    {
      "cell_type": "code",
      "execution_count": null,
      "metadata": {
        "id": "1Dq8pOAkPH1F"
      },
      "outputs": [],
      "source": []
    }
  ]
}